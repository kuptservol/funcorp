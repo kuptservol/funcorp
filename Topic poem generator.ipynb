{
 "cells": [
  {
   "cell_type": "code",
   "execution_count": 6,
   "metadata": {},
   "outputs": [
    {
     "name": "stdout",
     "output_type": "stream",
     "text": [
      "The autoreload extension is already loaded. To reload it, use:\n",
      "  %reload_ext autoreload\n"
     ]
    }
   ],
   "source": [
    "%load_ext autoreload\n",
    "%autoreload 2"
   ]
  },
  {
   "cell_type": "code",
   "execution_count": 1,
   "metadata": {},
   "outputs": [],
   "source": [
    "import warnings\n",
    "warnings.filterwarnings(\"ignore\")"
   ]
  },
  {
   "cell_type": "code",
   "execution_count": 2,
   "metadata": {},
   "outputs": [],
   "source": [
    "import pandas as pd\n",
    "import numpy as np\n",
    "import re\n",
    "import pickle\n",
    "import bz2\n",
    "import json\n",
    "from gensim.models import FastText\n",
    "from pyemd import emd\n",
    "import pymorphy2\n",
    "morph = pymorphy2.MorphAnalyzer()"
   ]
  },
  {
   "cell_type": "code",
   "execution_count": 32,
   "metadata": {},
   "outputs": [],
   "source": [
    "import fasttext\n",
    "import gensim"
   ]
  },
  {
   "cell_type": "code",
   "execution_count": 29,
   "metadata": {},
   "outputs": [],
   "source": [
    "EMB_PATH = f'/home/kuptservol/.deeppavlov/downloads/embeddings/'"
   ]
  },
  {
   "cell_type": "code",
   "execution_count": 30,
   "metadata": {},
   "outputs": [
    {
     "name": "stdout",
     "output_type": "stream",
     "text": [
      "dstc2_fastText_model.bin\r\n",
      "ft_native_300_ru_wiki_lenta_nltk_wordpunct_tokenize.bin\r\n",
      "ft_native_300_ru_wiki_lenta_nltk_word_tokenize-char.vec\r\n",
      "ft_native_300_ru_wiki_lenta_nltk_word_tokenize.vec\r\n",
      "wiki.en.bin\r\n"
     ]
    }
   ],
   "source": [
    "! ls {EMB_PATH}"
   ]
  },
  {
   "cell_type": "code",
   "execution_count": 20,
   "metadata": {},
   "outputs": [
    {
     "name": "stderr",
     "output_type": "stream",
     "text": [
      "Warning : `load_model` does not return WordVectorModel or SupervisedModel any more, but a `FastText` object which is very similar.\n"
     ]
    }
   ],
   "source": [
    "model = fasttext.load_model(f'EMB_PATH/ft_native_300_ru_wiki_lenta_nltk_wordpunct_tokenize.bin')"
   ]
  },
  {
   "cell_type": "code",
   "execution_count": 34,
   "metadata": {},
   "outputs": [],
   "source": [
    "model = gensim.models.KeyedVectors.load_word2vec_format(f'{EMB_PATH}/ft_native_300_ru_wiki_lenta_nltk_word_tokenize.vec')"
   ]
  },
  {
   "cell_type": "code",
   "execution_count": 36,
   "metadata": {},
   "outputs": [],
   "source": [
    "vectors = model.wv"
   ]
  },
  {
   "cell_type": "code",
   "execution_count": 37,
   "metadata": {},
   "outputs": [
    {
     "data": {
      "text/plain": [
       "[('надежды…', 0.7496052384376526),\n",
       " ('надежду…', 0.7383682727813721),\n",
       " ('надежды', 0.6953627467155457),\n",
       " ('надежду', 0.6936578154563904),\n",
       " ('надеждой', 0.6807190179824829),\n",
       " ('надеждах', 0.6601127982139587),\n",
       " ('надежд', 0.6483222246170044),\n",
       " ('вера', 0.641467273235321),\n",
       " ('уверенность', 0.613905131816864),\n",
       " ('радость', 0.613206684589386)]"
      ]
     },
     "execution_count": 37,
     "metadata": {},
     "output_type": "execute_result"
    }
   ],
   "source": [
    "vectors.most_similar('надежда')"
   ]
  },
  {
   "cell_type": "code",
   "execution_count": 22,
   "metadata": {},
   "outputs": [],
   "source": [
    "with bz2.BZ2File('words_accent.json.bz2') as fin:\n",
    "    accents_dict = json.load(fin)"
   ]
  },
  {
   "cell_type": "code",
   "execution_count": 23,
   "metadata": {},
   "outputs": [],
   "source": [
    "def sound_distance(word1, word2):\n",
    "    \"\"\"Фонетическое растояние на основе расстояния Левенштейна по окончаниям\n",
    "    (число несовпадающих символов на соответствующих позициях)\"\"\"\n",
    "    # эта и некоторые другие функции про фонетику взяты из https://github.com/sberbank-ai/classic-ai/tree/master/examples/phonetic-baseline\n",
    "    suffix_len = 3\n",
    "    suffix1 = (' ' * suffix_len + word1)[-suffix_len:]\n",
    "    suffix2 = (' ' * suffix_len + word2)[-suffix_len:]\n",
    "\n",
    "    distance = sum((ch1 != ch2) for ch1, ch2 in zip(suffix1, suffix2))\n",
    "    return distance"
   ]
  },
  {
   "cell_type": "code",
   "execution_count": 24,
   "metadata": {},
   "outputs": [],
   "source": [
    "def accent_syllable(word):\n",
    "    \"\"\"Номер ударного слога в слове\"\"\"\n",
    "    default_accent = (syllables_count(word) + 1) // 2\n",
    "    return accents_dict.get(word, default_accent)"
   ]
  },
  {
   "cell_type": "code",
   "execution_count": 25,
   "metadata": {},
   "outputs": [],
   "source": [
    "def syllables_count(word):\n",
    "    \"\"\"Количество гласных букв (слогов) в слове\"\"\"\n",
    "    return sum((ch in 'уеыаоэёяию') for ch in word)"
   ]
  },
  {
   "cell_type": "code",
   "execution_count": 105,
   "metadata": {},
   "outputs": [],
   "source": [
    "def get_most_similar(word_topic, word_to_replace):\n",
    "    \"\"\"Подбор из похожих слов более подходящего на замену\"\"\"    \n",
    "\n",
    "    result = word_topic\n",
    "\n",
    "    try:    \n",
    "        similar = vectors.most_similar(word_topic)\n",
    "        similar.append( (word_topic, 1) )\n",
    "\n",
    "        ms = pd.DataFrame()\n",
    "\n",
    "        for s in similar:\n",
    "            same_pos = 0\n",
    "            origmorph = morph.parse(word_to_replace)[0]\n",
    "            newmorph = morph.parse(s[0])[0]\n",
    "            if origmorph.tag.POS == newmorph.tag.POS:\n",
    "                same_pos = 1\n",
    "\n",
    "            item = {}\n",
    "            item['word'] = s[0]\n",
    "            item['score'] = int(1 - s[1] + same_pos * 3 + (sound_distance(s[0],keyword) * 4) + abs(syllables_count(s[0])-syllables_count(keyword)) + abs(accent_syllable(s[0]) - accent_syllable(keyword)))\n",
    "            \n",
    "            ms = ms.append(item, ignore_index=True)\n",
    "\n",
    "        result = ms.sort_values('score').iloc[0]['word'].lower()\n",
    "    except:\n",
    "        pass\n",
    "\n",
    "    origmorph = morph.parse(word_to_replace)[0]\n",
    "\n",
    "    inflection = set()\n",
    "    if origmorph.tag.case != None:\n",
    "        inflection.add(origmorph.tag.case)\n",
    "    if origmorph.tag.number != None:\n",
    "        inflection.add(origmorph.tag.number)\n",
    "    if origmorph.tag.gender != None:\n",
    "        inflection.add(origmorph.tag.gender)\n",
    "    if origmorph.tag.voice != None:\n",
    "        inflection.add(origmorph.tag.voice)\n",
    "    if origmorph.tag.person != None:\n",
    "        inflection.add(origmorph.tag.person)\n",
    "    if origmorph.tag.tense != None:\n",
    "        inflection.add(origmorph.tag.tense)\n",
    "\n",
    "    try:\n",
    "        return morph.parse(result)[0].inflect(inflection).word\n",
    "    except:\n",
    "        return result"
   ]
  },
  {
   "cell_type": "code",
   "execution_count": 106,
   "metadata": {},
   "outputs": [
    {
     "data": {
      "text/plain": [
       "'детство'"
      ]
     },
     "execution_count": 106,
     "metadata": {},
     "output_type": "execute_result"
    }
   ],
   "source": [
    "get_most_similar('детство', 'страх')"
   ]
  },
  {
   "cell_type": "code",
   "execution_count": 67,
   "metadata": {},
   "outputs": [],
   "source": [
    "poems = pd.read_json('classic_poems.json')\n",
    "poets = np.unique(poems['poet_id'])"
   ]
  },
  {
   "cell_type": "code",
   "execution_count": 68,
   "metadata": {},
   "outputs": [
    {
     "data": {
      "text/html": [
       "<div>\n",
       "<style scoped>\n",
       "    .dataframe tbody tr th:only-of-type {\n",
       "        vertical-align: middle;\n",
       "    }\n",
       "\n",
       "    .dataframe tbody tr th {\n",
       "        vertical-align: top;\n",
       "    }\n",
       "\n",
       "    .dataframe thead th {\n",
       "        text-align: right;\n",
       "    }\n",
       "</style>\n",
       "<table border=\"1\" class=\"dataframe\">\n",
       "  <thead>\n",
       "    <tr style=\"text-align: right;\">\n",
       "      <th></th>\n",
       "      <th>poet_id</th>\n",
       "      <th>title</th>\n",
       "      <th>content</th>\n",
       "    </tr>\n",
       "  </thead>\n",
       "  <tbody>\n",
       "    <tr>\n",
       "      <th>0</th>\n",
       "      <td>pushkin</td>\n",
       "      <td>К Наталье</td>\n",
       "      <td>Pourquoi craindrais-j'e de ie dire?\\nC'est Mar...</td>\n",
       "    </tr>\n",
       "    <tr>\n",
       "      <th>1</th>\n",
       "      <td>pushkin</td>\n",
       "      <td>Монах</td>\n",
       "      <td>Песнь первая\\nСвятой монах, грехопадение, юбка...</td>\n",
       "    </tr>\n",
       "    <tr>\n",
       "      <th>2</th>\n",
       "      <td>pushkin</td>\n",
       "      <td>Несчастие клита</td>\n",
       "      <td>Внук Тредьяковского Клит гекзаметром песенки п...</td>\n",
       "    </tr>\n",
       "    <tr>\n",
       "      <th>3</th>\n",
       "      <td>pushkin</td>\n",
       "      <td>К другу стихотворцу</td>\n",
       "      <td>Арист! и ты в толпе служителей Парнасса!\\nТы х...</td>\n",
       "    </tr>\n",
       "    <tr>\n",
       "      <th>4</th>\n",
       "      <td>pushkin</td>\n",
       "      <td>Кольна (Подражание Occèану)</td>\n",
       "      <td>(Фингал послал Тоскара воздвигнуть на берегах ...</td>\n",
       "    </tr>\n",
       "  </tbody>\n",
       "</table>\n",
       "</div>"
      ],
      "text/plain": [
       "   poet_id                        title  \\\n",
       "0  pushkin                    К Наталье   \n",
       "1  pushkin                        Монах   \n",
       "2  pushkin              Несчастие клита   \n",
       "3  pushkin          К другу стихотворцу   \n",
       "4  pushkin  Кольна (Подражание Occèану)   \n",
       "\n",
       "                                             content  \n",
       "0  Pourquoi craindrais-j'e de ie dire?\\nC'est Mar...  \n",
       "1  Песнь первая\\nСвятой монах, грехопадение, юбка...  \n",
       "2  Внук Тредьяковского Клит гекзаметром песенки п...  \n",
       "3  Арист! и ты в толпе служителей Парнасса!\\nТы х...  \n",
       "4  (Фингал послал Тоскара воздвигнуть на берегах ...  "
      ]
     },
     "execution_count": 68,
     "metadata": {},
     "output_type": "execute_result"
    }
   ],
   "source": [
    "poems.head()"
   ]
  },
  {
   "cell_type": "code",
   "execution_count": 69,
   "metadata": {},
   "outputs": [
    {
     "data": {
      "text/plain": [
       "array(['blok', 'esenin', 'mayakovskij', 'pushkin', 'tyutchev'],\n",
       "      dtype=object)"
      ]
     },
     "execution_count": 69,
     "metadata": {},
     "output_type": "execute_result"
    }
   ],
   "source": [
    "poets"
   ]
  },
  {
   "cell_type": "code",
   "execution_count": 72,
   "metadata": {},
   "outputs": [],
   "source": [
    "def cosine_similarity(a, b):\n",
    "    try:\n",
    "        vec_a = vectors.get_vector(a)\n",
    "        vec_b = vectors.get_vector(b)\n",
    "        cos_sim = np.dot(vec_a, vec_b) / (np.linalg.norm(vec_a) * np.linalg.norm(vec_b))\n",
    "        return cos_sim\n",
    "    except:\n",
    "        return vectors.wmdistance(a,b)"
   ]
  },
  {
   "cell_type": "code",
   "execution_count": 73,
   "metadata": {},
   "outputs": [
    {
     "data": {
      "text/plain": [
       "3.0783263927493056"
      ]
     },
     "execution_count": 73,
     "metadata": {},
     "output_type": "execute_result"
    }
   ],
   "source": [
    "vectors.wmdistance('страх','ненависть')"
   ]
  },
  {
   "cell_type": "code",
   "execution_count": 74,
   "metadata": {},
   "outputs": [
    {
     "data": {
      "text/plain": [
       "5.025126295627562"
      ]
     },
     "execution_count": 74,
     "metadata": {},
     "output_type": "execute_result"
    }
   ],
   "source": [
    "vectors.wmdistance('страх','любовь')"
   ]
  },
  {
   "cell_type": "code",
   "execution_count": 197,
   "metadata": {},
   "outputs": [],
   "source": [
    "def get_poem(poet, topics):\n",
    "    \"\"\"генерирует стих\"\"\"\n",
    "    reg = re.compile('[^а-яА-ЯёЁ \\n]')\n",
    "\n",
    "    poem = ''\n",
    "\n",
    "    while len(poem.strip().split('\\n')) < 6:\n",
    "        if poet in poets:\n",
    "            poem = poems[poems['poet_id']==poet].sample()['content'].values[0]\n",
    "        else:\n",
    "            poem = poems.sample()['content'].values[0]\n",
    "\n",
    "    poem = reg.sub('', poem).strip().lower()\n",
    "\n",
    "    poem = '\\n'.join(poem.split('\\n')[:np.random.choice([4,6])])\n",
    "\n",
    "    injections = pd.DataFrame()\n",
    "\n",
    "    for topic in topics.split():\n",
    "        if len(topic) < 3:\n",
    "            continue\n",
    "\n",
    "        sim = pd.DataFrame()\n",
    "\n",
    "        for row in poem.split('\\n'):\n",
    "            for w in row.split():\n",
    "                if len(w) > 3:\n",
    "                    w = w.replace(',','')\n",
    "                    item = {}\n",
    "                    item['word'] = w\n",
    "                    item['similarity'] = cosine_similarity(topic, w)\n",
    "                    sim = sim.append(pd.DataFrame(item, index=[0]))\n",
    "\n",
    "        replacement = {}\n",
    "        try:\n",
    "            replacement['from'] = sim.sort_values('similarity', ascending=False).iloc[0:]['word'].values[0]\n",
    "            replacement['to'] =  get_most_similar(topic, replacement['from'])\n",
    "            injections = injections.append(pd.DataFrame(replacement, index=[0]))\n",
    "            #print(injections)\n",
    "        except:\n",
    "            #print(e)\n",
    "            pass\n",
    "\n",
    "    txt = '\\n'.join(poem.split('\\n'))\n",
    "\n",
    "    for index, row in injections.iterrows():\n",
    "        txt = txt.replace(row['from'], row['to']) \n",
    "\n",
    "    txt_list = txt.split('\\n')\n",
    "    txt_new = ''\n",
    "    for line in txt_list:\n",
    "        txt_new += line[:117].capitalize() + '\\n' \n",
    "    txt = txt_new.strip()\n",
    "\n",
    "    return txt"
   ]
  },
  {
   "cell_type": "code",
   "execution_count": 123,
   "metadata": {},
   "outputs": [],
   "source": [
    "def validate_poem(poem):\n",
    "\n",
    "    poem_list = poem.split('\\n')\n",
    "\n",
    "    lines_count = 0\n",
    "    lines_maxlen = 0\n",
    "\n",
    "    for line in poem_list:\n",
    "        if len(line.strip()) > 1:\n",
    "            lines_count += 1\n",
    "        lines_maxlen = max(lines_maxlen, len(line))\n",
    "\n",
    "    if lines_maxlen > 120:\n",
    "        return False\n",
    "    if lines_count < 3:\n",
    "        return False\n",
    "    if lines_count > 8:\n",
    "        return False\n",
    "\n",
    "    return True"
   ]
  },
  {
   "cell_type": "code",
   "execution_count": 181,
   "metadata": {},
   "outputs": [],
   "source": [
    "def get_most_similar_poem(poet, topic):\n",
    "    poems_df = pd.DataFrame()\n",
    "\n",
    "    for _ in range(10):   \n",
    "        poem = get_poem(poet, topic)\n",
    "        poem_string = ''.join(poem.split('\\n'))\n",
    "        item = {}\n",
    "        item[\"score\"] = np.float(validate_poem(poem)) * cosine_similarity(topic, poem_string)\n",
    "        item[\"poem\"] = poem\n",
    "\n",
    "        poems_df = poems_df.append(pd.DataFrame(item, index=[0]))\n",
    "\n",
    "    txt = poems_df.sort_values('score', ascending=False).iloc[0:]['poem'].values[0]\n",
    "    print(txt)\n",
    "    return txt"
   ]
  },
  {
   "cell_type": "code",
   "execution_count": 204,
   "metadata": {},
   "outputs": [
    {
     "name": "stdout",
     "output_type": "stream",
     "text": [
      "Под шум и звон однообразный\n",
      "Под городскую суету\n",
      "Я ухожу душою праздный\n",
      "В вертолет во мрак и в пустоту\n"
     ]
    },
    {
     "data": {
      "text/plain": [
       "'Под шум и звон однообразный\\nПод городскую суету\\nЯ ухожу душою праздный\\nВ вертолет во мрак и в пустоту'"
      ]
     },
     "execution_count": 204,
     "metadata": {},
     "output_type": "execute_result"
    }
   ],
   "source": [
    "get_most_similar_poem('', \"вертолет самолет\")"
   ]
  },
  {
   "cell_type": "code",
   "execution_count": null,
   "metadata": {},
   "outputs": [],
   "source": []
  }
 ],
 "metadata": {
  "kernelspec": {
   "display_name": "Python 3",
   "language": "python",
   "name": "python3"
  },
  "language_info": {
   "codemirror_mode": {
    "name": "ipython",
    "version": 3
   },
   "file_extension": ".py",
   "mimetype": "text/x-python",
   "name": "python",
   "nbconvert_exporter": "python",
   "pygments_lexer": "ipython3",
   "version": "3.6.3"
  }
 },
 "nbformat": 4,
 "nbformat_minor": 4
}
