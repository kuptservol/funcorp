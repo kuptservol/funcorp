{
 "cells": [
  {
   "cell_type": "code",
   "execution_count": 12,
   "metadata": {},
   "outputs": [
    {
     "name": "stdout",
     "output_type": "stream",
     "text": [
      "The autoreload extension is already loaded. To reload it, use:\n",
      "  %reload_ext autoreload\n"
     ]
    }
   ],
   "source": [
    "%load_ext autoreload\n",
    "%autoreload 2\n",
    "%matplotlib inline"
   ]
  },
  {
   "cell_type": "code",
   "execution_count": 13,
   "metadata": {},
   "outputs": [],
   "source": [
    "import pandas as pd\n",
    "import numpy as np\n",
    "import random"
   ]
  },
  {
   "cell_type": "code",
   "execution_count": 14,
   "metadata": {},
   "outputs": [],
   "source": [
    "k, b = random.random(), random.random()"
   ]
  },
  {
   "cell_type": "code",
   "execution_count": 15,
   "metadata": {},
   "outputs": [
    {
     "data": {
      "text/plain": [
       "(0.3320014548127125, 0.5399141916477559)"
      ]
     },
     "execution_count": 15,
     "metadata": {},
     "output_type": "execute_result"
    }
   ],
   "source": [
    "k, b"
   ]
  },
  {
   "cell_type": "code",
   "execution_count": 16,
   "metadata": {},
   "outputs": [],
   "source": [
    "NUM = 1000"
   ]
  },
  {
   "cell_type": "code",
   "execution_count": 53,
   "metadata": {},
   "outputs": [],
   "source": [
    "X = [float(x) for x in range(NUM)]"
   ]
  },
  {
   "cell_type": "code",
   "execution_count": 54,
   "metadata": {},
   "outputs": [],
   "source": [
    "Y = [k*x + b + 1.2* random.random() for x in X]"
   ]
  },
  {
   "cell_type": "code",
   "execution_count": 55,
   "metadata": {},
   "outputs": [],
   "source": [
    "import matplotlib.pyplot as plt"
   ]
  },
  {
   "cell_type": "code",
   "execution_count": 56,
   "metadata": {},
   "outputs": [
    {
     "data": {
      "image/png": "[encoded data removed]",
      "text/plain": [
       "<Figure size 432x288 with 1 Axes>"
      ]
     },
     "metadata": {
      "needs_background": "light"
     },
     "output_type": "display_data"
    }
   ],
   "source": [
    "plt.scatter(X[:50],Y[:50])\n",
    "plt.show()"
   ]
  },
  {
   "cell_type": "code",
   "execution_count": 80,
   "metadata": {},
   "outputs": [],
   "source": [
    "from torch import nn\n",
    "import torch"
   ]
  },
  {
   "cell_type": "code",
   "execution_count": 81,
   "metadata": {},
   "outputs": [],
   "source": [
    "import torch.nn.functional as F"
   ]
  },
  {
   "cell_type": "code",
   "execution_count": 125,
   "metadata": {},
   "outputs": [],
   "source": [
    "train_x, train_y = torch.tensor(X[:800]).unsqueeze(-1),torch.tensor(Y[:800])"
   ]
  },
  {
   "cell_type": "code",
   "execution_count": 126,
   "metadata": {},
   "outputs": [],
   "source": [
    "valid_x, valid_y = torch.tensor(X[800:]).unsqueeze(-1),torch.tensor(Y[800:])"
   ]
  },
  {
   "cell_type": "code",
   "execution_count": 234,
   "metadata": {},
   "outputs": [],
   "source": [
    "class Model0(nn.Module):\n",
    "    def __init__(self):\n",
    "        super().__init__()\n",
    "        self.lin = nn.Linear(1, 50)\n",
    "        self.out = nn.Linear(50, 1)\n",
    "    \n",
    "    def forward(self, x):\n",
    "        return self.out(F.relu(self.lin(x)))"
   ]
  },
  {
   "cell_type": "code",
   "execution_count": 324,
   "metadata": {},
   "outputs": [],
   "source": [
    "model = Model0()"
   ]
  },
  {
   "cell_type": "code",
   "execution_count": 319,
   "metadata": {},
   "outputs": [
    {
     "data": {
      "text/plain": [
       "(tensor([0.]), tensor([0.6857], grad_fn=<SelectBackward>), torch.Size([64, 1]))"
      ]
     },
     "execution_count": 319,
     "metadata": {},
     "output_type": "execute_result"
    }
   ],
   "source": [
    "bs=64\n",
    "\n",
    "xb = train_x[0:bs]\n",
    "preds = model(xb)\n",
    "xb[0], preds[0], preds.shape"
   ]
  },
  {
   "cell_type": "code",
   "execution_count": 320,
   "metadata": {},
   "outputs": [],
   "source": [
    "yb = train_y[:bs]"
   ]
  },
  {
   "cell_type": "code",
   "execution_count": 439,
   "metadata": {},
   "outputs": [],
   "source": [
    "def rmse(output, targ): return (output.squeeze(-1) - targ).pow(2).mean().sqrt()"
   ]
  },
  {
   "cell_type": "code",
   "execution_count": 440,
   "metadata": {},
   "outputs": [
    {
     "data": {
      "text/plain": [
       "tensor(169.0848, grad_fn=<SqrtBackward>)"
      ]
     },
     "execution_count": 440,
     "metadata": {},
     "output_type": "execute_result"
    }
   ],
   "source": [
    "rmse(model(train_x[0:bs]), yb[:bs])"
   ]
  },
  {
   "cell_type": "code",
   "execution_count": 441,
   "metadata": {},
   "outputs": [],
   "source": [
    "def fit(model, X, Y, loss_func=rmse,epochs=10, bs=64, lr=0.5, metrics=None):\n",
    "    for epoch in range(epochs):\n",
    "        for i in range((len(X)-1)//bs + 1):\n",
    "            start_i = i*bs\n",
    "            end_i = start_i+bs\n",
    "            xb = X[start_i:end_i]\n",
    "            yb = Y[start_i:end_i]\n",
    "            \n",
    "            loss = loss_func(model(xb), yb)\n",
    "                \n",
    "            loss.backward()\n",
    "            with torch.no_grad():\n",
    "                for l in [model.lin, model.out]:\n",
    "                    l.weight -= l.weight.grad * lr\n",
    "                    l.bias   -= l.bias.grad   * lr\n",
    "                    l.weight.grad.zero_()\n",
    "                    l.bias  .grad.zero_()\n",
    "        with torch.no_grad():\n",
    "            print('epoch: ', epoch, 'train-loss: ', loss_func(model(X), Y))"
   ]
  },
  {
   "cell_type": "code",
   "execution_count": 327,
   "metadata": {},
   "outputs": [
    {
     "name": "stdout",
     "output_type": "stream",
     "text": [
      "epoch:  0 train-loss:  tensor(324.2517)\n",
      "epoch:  1 train-loss:  tensor(215.3129)\n",
      "epoch:  2 train-loss:  tensor(133.9086)\n",
      "epoch:  3 train-loss:  tensor(101.0341)\n",
      "epoch:  4 train-loss:  tensor(174.8167)\n",
      "epoch:  5 train-loss:  tensor(26.9521)\n",
      "epoch:  6 train-loss:  tensor(130.6346)\n",
      "epoch:  7 train-loss:  tensor(101.0560)\n",
      "epoch:  8 train-loss:  tensor(174.6272)\n",
      "epoch:  9 train-loss:  tensor(26.8656)\n"
     ]
    }
   ],
   "source": [
    "model = Model0()\n",
    "fit(model, train_x, train_y, lr=0.001, epochs=10)"
   ]
  },
  {
   "cell_type": "code",
   "execution_count": 328,
   "metadata": {},
   "outputs": [
    {
     "data": {
      "text/plain": [
       "tensor(1.1559, grad_fn=<SqrtBackward>)"
      ]
     },
     "execution_count": 328,
     "metadata": {},
     "output_type": "execute_result"
    }
   ],
   "source": [
    "rmse(model(train_x[0:bs]), yb[:bs])"
   ]
  },
  {
   "cell_type": "code",
   "execution_count": 251,
   "metadata": {},
   "outputs": [
    {
     "name": "stdout",
     "output_type": "stream",
     "text": [
      "lin: Linear(in_features=1, out_features=50, bias=True)\n",
      "out: Linear(in_features=50, out_features=1, bias=True)\n"
     ]
    }
   ],
   "source": [
    "for name,l in model.named_children(): print(f\"{name}: {l}\")"
   ]
  },
  {
   "cell_type": "code",
   "execution_count": 329,
   "metadata": {},
   "outputs": [],
   "source": [
    "from torch import optim"
   ]
  },
  {
   "cell_type": "code",
   "execution_count": 447,
   "metadata": {},
   "outputs": [],
   "source": [
    "def fit(model, X, Y, loss_func=rmse,epochs=10, bs=64, opt=None, metrics=None):\n",
    "    for epoch in range(epochs):\n",
    "        model.train()\n",
    "        for i in range((len(X)-1)//bs + 1):\n",
    "            start_i = i*bs\n",
    "            end_i = start_i+bs\n",
    "            xb = X[start_i:end_i]\n",
    "            yb = Y[start_i:end_i]\n",
    "            \n",
    "            loss = loss_func(model(xb), yb)\n",
    "                \n",
    "            loss.backward()\n",
    "            opt.step()\n",
    "        model.eval()\n",
    "        with torch.no_grad():\n",
    "            print('epoch: ', epoch, 'train-loss: ', loss_func(model(X), Y))"
   ]
  },
  {
   "cell_type": "code",
   "execution_count": 448,
   "metadata": {},
   "outputs": [
    {
     "name": "stdout",
     "output_type": "stream",
     "text": [
      "epoch:  0 train-loss:  tensor(153.8656)\n",
      "epoch:  1 train-loss:  tensor(151.5849)\n",
      "epoch:  2 train-loss:  tensor(147.4595)\n",
      "epoch:  3 train-loss:  tensor(140.3367)\n",
      "epoch:  4 train-loss:  tensor(126.8914)\n",
      "epoch:  5 train-loss:  tensor(99.6299)\n",
      "epoch:  6 train-loss:  tensor(48.8456)\n",
      "epoch:  7 train-loss:  tensor(57.3856)\n",
      "epoch:  8 train-loss:  tensor(90.9178)\n",
      "epoch:  9 train-loss:  tensor(70.8440)\n",
      "epoch:  10 train-loss:  tensor(48.3922)\n"
     ]
    }
   ],
   "source": [
    "model = Model0()\n",
    "fit(model, train_x, train_y, epochs=11, opt=optim.SGD(model.parameters(), lr=0.001))"
   ]
  },
  {
   "cell_type": "code",
   "execution_count": 387,
   "metadata": {},
   "outputs": [
    {
     "data": {
      "text/plain": [
       "tensor(6.4786, grad_fn=<SqrtBackward>)"
      ]
     },
     "execution_count": 387,
     "metadata": {},
     "output_type": "execute_result"
    }
   ],
   "source": [
    "rmse(model(train_x[0:bs]), yb[:bs])"
   ]
  },
  {
   "cell_type": "code",
   "execution_count": 388,
   "metadata": {},
   "outputs": [
    {
     "data": {
      "text/plain": [
       "tensor([11.3673], grad_fn=<AddBackward0>)"
      ]
     },
     "execution_count": 388,
     "metadata": {},
     "output_type": "execute_result"
    }
   ],
   "source": [
    "model(train_x[0])"
   ]
  },
  {
   "cell_type": "markdown",
   "metadata": {},
   "source": [
    "## Normalize"
   ]
  },
  {
   "cell_type": "code",
   "execution_count": 390,
   "metadata": {},
   "outputs": [],
   "source": [
    "def normalize(x, m, s): return (x-m)/s"
   ]
  },
  {
   "cell_type": "code",
   "execution_count": 391,
   "metadata": {},
   "outputs": [
    {
     "data": {
      "text/plain": [
       "(tensor(-1.3411e-09), tensor(1.))"
      ]
     },
     "execution_count": 391,
     "metadata": {},
     "output_type": "execute_result"
    }
   ],
   "source": [
    "train_mean,train_std = train_x.mean(),train_x.std()\n",
    "train_mean,train_std"
   ]
  },
  {
   "cell_type": "code",
   "execution_count": 392,
   "metadata": {},
   "outputs": [],
   "source": [
    "train_x = normalize(train_x, train_mean, train_std)\n",
    "valid_x = normalize(valid_x, train_mean, train_std)"
   ]
  },
  {
   "cell_type": "code",
   "execution_count": 393,
   "metadata": {},
   "outputs": [
    {
     "data": {
      "text/plain": [
       "(tensor(-1.3411e-09), tensor(1.))"
      ]
     },
     "execution_count": 393,
     "metadata": {},
     "output_type": "execute_result"
    }
   ],
   "source": [
    "train_x.mean(),train_x.std()"
   ]
  },
  {
   "cell_type": "code",
   "execution_count": 395,
   "metadata": {},
   "outputs": [
    {
     "name": "stdout",
     "output_type": "stream",
     "text": [
      "epoch:  0 train-loss:  tensor(153.2147)\n",
      "epoch:  1 train-loss:  tensor(150.9793)\n",
      "epoch:  2 train-loss:  tensor(146.8963)\n",
      "epoch:  3 train-loss:  tensor(139.6177)\n",
      "epoch:  4 train-loss:  tensor(125.4473)\n",
      "epoch:  5 train-loss:  tensor(96.9875)\n",
      "epoch:  6 train-loss:  tensor(47.8640)\n",
      "epoch:  7 train-loss:  tensor(70.1603)\n",
      "epoch:  8 train-loss:  tensor(106.6311)\n",
      "epoch:  9 train-loss:  tensor(88.4668)\n"
     ]
    }
   ],
   "source": [
    "model = Model0()\n",
    "fit(model, train_x, train_y, epochs=10, opt=optim.SGD(model.parameters(), lr=0.001))"
   ]
  },
  {
   "cell_type": "markdown",
   "metadata": {},
   "source": [
    "## Adam"
   ]
  },
  {
   "cell_type": "code",
   "execution_count": 405,
   "metadata": {},
   "outputs": [
    {
     "name": "stdout",
     "output_type": "stream",
     "text": [
      "epoch:  0 train-loss:  tensor(152.9406)\n",
      "epoch:  1 train-loss:  tensor(149.7217)\n",
      "epoch:  2 train-loss:  tensor(144.4590)\n",
      "epoch:  3 train-loss:  tensor(135.6977)\n",
      "epoch:  4 train-loss:  tensor(122.5553)\n",
      "epoch:  5 train-loss:  tensor(104.5215)\n",
      "epoch:  6 train-loss:  tensor(81.1717)\n",
      "epoch:  7 train-loss:  tensor(52.6497)\n",
      "epoch:  8 train-loss:  tensor(24.0992)\n",
      "epoch:  9 train-loss:  tensor(37.4898)\n"
     ]
    }
   ],
   "source": [
    "model = Model0()\n",
    "fit(model, train_x, train_y, epochs=10, opt=optim.Adam(model.parameters(), lr=0.01))"
   ]
  },
  {
   "cell_type": "markdown",
   "metadata": {},
   "source": [
    "## Regularization"
   ]
  },
  {
   "cell_type": "code",
   "execution_count": 468,
   "metadata": {},
   "outputs": [
    {
     "name": "stdout",
     "output_type": "stream",
     "text": [
      "epoch:  0 train-loss:  tensor(152.9894)\n",
      "epoch:  1 train-loss:  tensor(151.4410)\n",
      "epoch:  2 train-loss:  tensor(149.6250)\n",
      "epoch:  3 train-loss:  tensor(146.6585)\n",
      "epoch:  4 train-loss:  tensor(141.2507)\n",
      "epoch:  5 train-loss:  tensor(131.6140)\n",
      "epoch:  6 train-loss:  tensor(116.8729)\n",
      "epoch:  7 train-loss:  tensor(96.5018)\n",
      "epoch:  8 train-loss:  tensor(69.6085)\n",
      "epoch:  9 train-loss:  tensor(35.9067)\n"
     ]
    }
   ],
   "source": [
    "model = Model0()\n",
    "fit(model, train_x, train_y, epochs=10, opt=optim.Adam(model.parameters(), lr=0.01, weight_decay=0.5))"
   ]
  },
  {
   "cell_type": "code",
   "execution_count": 469,
   "metadata": {},
   "outputs": [
    {
     "data": {
      "image/png": "[encoded data removed]",
      "text/plain": [
       "<Figure size 432x288 with 1 Axes>"
      ]
     },
     "metadata": {
      "needs_background": "light"
     },
     "output_type": "display_data"
    }
   ],
   "source": [
    "with torch.no_grad():\n",
    "    plt.scatter(train_x[0:50], model(train_x[0:50]))\n",
    "    plt.show()"
   ]
  },
  {
   "cell_type": "markdown",
   "metadata": {},
   "source": [
    "## Batch-size - speed"
   ]
  },
  {
   "cell_type": "code",
   "execution_count": 417,
   "metadata": {},
   "outputs": [],
   "source": [
    "model = Model0()"
   ]
  },
  {
   "cell_type": "code",
   "execution_count": 419,
   "metadata": {},
   "outputs": [
    {
     "name": "stdout",
     "output_type": "stream",
     "text": [
      "epoch:  0 train-loss:  tensor(511.2061)\n",
      "epoch:  1 train-loss:  tensor(247.3071)\n",
      "epoch:  2 train-loss:  tensor(535.6971)\n",
      "epoch:  3 train-loss:  tensor(409.9441)\n",
      "epoch:  4 train-loss:  tensor(87.8636)\n",
      "epoch:  5 train-loss:  tensor(79.0429)\n",
      "epoch:  6 train-loss:  tensor(1067.0833)\n",
      "epoch:  7 train-loss:  tensor(274.5234)\n",
      "epoch:  8 train-loss:  tensor(302.4339)\n",
      "epoch:  9 train-loss:  tensor(919.6824)\n",
      "CPU times: user 7.81 s, sys: 290 ms, total: 8.1 s\n",
      "Wall time: 5.52 s\n"
     ]
    }
   ],
   "source": [
    "%time fit(model, train_x, train_y, epochs=10, opt=optim.Adam(model.parameters(), lr=0.01), bs=1)"
   ]
  },
  {
   "cell_type": "code",
   "execution_count": 420,
   "metadata": {},
   "outputs": [
    {
     "name": "stdout",
     "output_type": "stream",
     "text": [
      "epoch:  0 train-loss:  tensor(904.4087)\n",
      "epoch:  1 train-loss:  tensor(889.1667)\n",
      "epoch:  2 train-loss:  tensor(873.9164)\n",
      "epoch:  3 train-loss:  tensor(858.6313)\n",
      "epoch:  4 train-loss:  tensor(843.3091)\n",
      "epoch:  5 train-loss:  tensor(827.9493)\n",
      "epoch:  6 train-loss:  tensor(812.5560)\n",
      "epoch:  7 train-loss:  tensor(797.1339)\n",
      "epoch:  8 train-loss:  tensor(781.6869)\n",
      "epoch:  9 train-loss:  tensor(766.2234)\n",
      "CPU times: user 385 ms, sys: 18.1 ms, total: 403 ms\n",
      "Wall time: 109 ms\n"
     ]
    }
   ],
   "source": [
    "%time fit(model, train_x, train_y, epochs=10, opt=optim.Adam(model.parameters(), lr=0.01), bs=64)"
   ]
  },
  {
   "cell_type": "code",
   "execution_count": 421,
   "metadata": {},
   "outputs": [
    {
     "name": "stdout",
     "output_type": "stream",
     "text": [
      "epoch:  0 train-loss:  tensor(765.1339)\n",
      "epoch:  1 train-loss:  tensor(764.0444)\n",
      "epoch:  2 train-loss:  tensor(762.9556)\n",
      "epoch:  3 train-loss:  tensor(761.8672)\n",
      "epoch:  4 train-loss:  tensor(760.7792)\n",
      "epoch:  5 train-loss:  tensor(759.6917)\n",
      "epoch:  6 train-loss:  tensor(758.6044)\n",
      "epoch:  7 train-loss:  tensor(757.5176)\n",
      "epoch:  8 train-loss:  tensor(756.4315)\n",
      "epoch:  9 train-loss:  tensor(755.3459)\n",
      "CPU times: user 161 ms, sys: 23 ms, total: 184 ms\n",
      "Wall time: 37.3 ms\n"
     ]
    }
   ],
   "source": [
    "%time fit(model, train_x, train_y, epochs=10, opt=optim.Adam(model.parameters(), lr=0.01), bs=1000)"
   ]
  },
  {
   "cell_type": "markdown",
   "metadata": {},
   "source": [
    "## Batchnorm"
   ]
  },
  {
   "cell_type": "code",
   "execution_count": 450,
   "metadata": {},
   "outputs": [],
   "source": [
    "class Model1(nn.Module):\n",
    "    def __init__(self):\n",
    "        super().__init__()\n",
    "        self.lin = nn.Linear(1, 50)\n",
    "        self.out = nn.Linear(50, 1)\n",
    "        self.bn = nn.BatchNorm1d(50)\n",
    "    \n",
    "    def forward(self, x):\n",
    "        return self.out(self.bn(F.relu(self.lin(x))))"
   ]
  },
  {
   "cell_type": "code",
   "execution_count": 451,
   "metadata": {},
   "outputs": [
    {
     "data": {
      "text/plain": [
       "tensor(13.2920, grad_fn=<SqrtBackward>)"
      ]
     },
     "execution_count": 451,
     "metadata": {},
     "output_type": "execute_result"
    }
   ],
   "source": [
    "model = Model1()\n",
    "rmse(model(train_x[0:bs]), yb[:bs])"
   ]
  },
  {
   "cell_type": "code",
   "execution_count": 452,
   "metadata": {},
   "outputs": [
    {
     "data": {
      "image/png": "[encoded data removed]",
      "text/plain": [
       "<Figure size 432x288 with 1 Axes>"
      ]
     },
     "metadata": {
      "needs_background": "light"
     },
     "output_type": "display_data"
    }
   ],
   "source": [
    "with torch.no_grad():\n",
    "    plt.scatter(train_x[0:50], model(train_x[0:50]))\n",
    "    plt.show()"
   ]
  },
  {
   "cell_type": "code",
   "execution_count": 466,
   "metadata": {},
   "outputs": [
    {
     "name": "stdout",
     "output_type": "stream",
     "text": [
      "epoch:  0 train-loss:  tensor(669.0980)\n",
      "epoch:  1 train-loss:  tensor(877.4543)\n",
      "epoch:  2 train-loss:  tensor(1083.0463)\n",
      "epoch:  3 train-loss:  tensor(1250.9193)\n",
      "epoch:  4 train-loss:  tensor(1351.8588)\n",
      "epoch:  5 train-loss:  tensor(1362.3995)\n",
      "epoch:  6 train-loss:  tensor(1269.4364)\n",
      "epoch:  7 train-loss:  tensor(1089.6935)\n",
      "epoch:  8 train-loss:  tensor(858.9086)\n",
      "epoch:  9 train-loss:  tensor(618.4482)\n"
     ]
    },
    {
     "data": {
      "text/plain": [
       "tensor(1289.2028, grad_fn=<SqrtBackward>)"
      ]
     },
     "execution_count": 466,
     "metadata": {},
     "output_type": "execute_result"
    }
   ],
   "source": [
    "fit(model, train_x, train_y, epochs=10, opt=optim.Adam(model.parameters(), lr=0.01))\n",
    "rmse(model(train_x[0:bs]), yb[:bs])"
   ]
  },
  {
   "cell_type": "code",
   "execution_count": 461,
   "metadata": {},
   "outputs": [
    {
     "data": {
      "image/png": "[encoded data removed]",
      "text/plain": [
       "<Figure size 432x288 with 1 Axes>"
      ]
     },
     "metadata": {
      "needs_background": "light"
     },
     "output_type": "display_data"
    }
   ],
   "source": [
    "with torch.no_grad():\n",
    "    plt.scatter(train_x[0:50], model(train_x[0:50]))\n",
    "    plt.show()"
   ]
  }
 ],
 "metadata": {
  "kernelspec": {
   "display_name": "Python 3",
   "language": "python",
   "name": "python3"
  },
  "language_info": {
   "codemirror_mode": {
    "name": "ipython",
    "version": 3
   },
   "file_extension": ".py",
   "mimetype": "text/x-python",
   "name": "python",
   "nbconvert_exporter": "python",
   "pygments_lexer": "ipython3",
   "version": "3.7.6"
  }
 },
 "nbformat": 4,
 "nbformat_minor": 4
}
