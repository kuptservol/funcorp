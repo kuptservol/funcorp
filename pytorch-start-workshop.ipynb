{
 "cells": [
  {
   "cell_type": "code",
   "execution_count": 108,
   "metadata": {},
   "outputs": [
    {
     "name": "stdout",
     "output_type": "stream",
     "text": [
      "The autoreload extension is already loaded. To reload it, use:\n",
      "  %reload_ext autoreload\n"
     ]
    }
   ],
   "source": [
    "%load_ext autoreload\n",
    "%autoreload 2\n",
    "%matplotlib inline"
   ]
  },
  {
   "cell_type": "code",
   "execution_count": 109,
   "metadata": {},
   "outputs": [],
   "source": [
    "import pandas as pd\n",
    "import numpy as np\n",
    "import random"
   ]
  },
  {
   "cell_type": "code",
   "execution_count": 110,
   "metadata": {},
   "outputs": [],
   "source": [
    "k, b = random.random(), random.random()"
   ]
  },
  {
   "cell_type": "code",
   "execution_count": 111,
   "metadata": {},
   "outputs": [
    {
     "data": {
      "text/plain": [
       "(0.2638748795409982, 0.5680563845048734)"
      ]
     },
     "execution_count": 111,
     "metadata": {},
     "output_type": "execute_result"
    }
   ],
   "source": [
    "k, b"
   ]
  },
  {
   "cell_type": "code",
   "execution_count": 112,
   "metadata": {},
   "outputs": [],
   "source": [
    "NUM = 1000"
   ]
  },
  {
   "cell_type": "code",
   "execution_count": 113,
   "metadata": {},
   "outputs": [],
   "source": [
    "X = [float(x) for x in range(NUM)]"
   ]
  },
  {
   "cell_type": "code",
   "execution_count": 126,
   "metadata": {},
   "outputs": [],
   "source": [
    "Y = [k*x**0.9 + b + 1.2* random.random() for x in X]"
   ]
  },
  {
   "cell_type": "code",
   "execution_count": 127,
   "metadata": {},
   "outputs": [],
   "source": [
    "import matplotlib.pyplot as plt"
   ]
  },
  {
   "cell_type": "code",
   "execution_count": 128,
   "metadata": {},
   "outputs": [
    {
     "data": {
      "image/png": "[encoded data removed]",
      "text/plain": [
       "<Figure size 432x288 with 1 Axes>"
      ]
     },
     "metadata": {
      "needs_background": "light"
     },
     "output_type": "display_data"
    }
   ],
   "source": [
    "plt.scatter(X[:50],Y[:50])\n",
    "plt.show()"
   ]
  },
  {
   "cell_type": "code",
   "execution_count": 129,
   "metadata": {},
   "outputs": [],
   "source": [
    "from torch import nn\n",
    "import torch"
   ]
  },
  {
   "cell_type": "code",
   "execution_count": 130,
   "metadata": {},
   "outputs": [],
   "source": [
    "import torch.nn.functional as F"
   ]
  },
  {
   "cell_type": "code",
   "execution_count": 171,
   "metadata": {},
   "outputs": [],
   "source": [
    "train_x, train_y = torch.tensor(X[:800]).unsqueeze(-1),torch.tensor(Y[:800])"
   ]
  },
  {
   "cell_type": "code",
   "execution_count": 172,
   "metadata": {},
   "outputs": [],
   "source": [
    "valid_x, valid_y = torch.tensor(X[800:]).unsqueeze(-1),torch.tensor(Y[800:])"
   ]
  },
  {
   "cell_type": "code",
   "execution_count": 133,
   "metadata": {},
   "outputs": [],
   "source": [
    "class Model0(nn.Module):\n",
    "    def __init__(self):\n",
    "        super().__init__()\n",
    "        self.lin = nn.Linear(1, 50)\n",
    "        self.out = nn.Linear(50, 1)\n",
    "    \n",
    "    def forward(self, x):\n",
    "        return self.out(F.relu(self.lin(x)))"
   ]
  },
  {
   "cell_type": "code",
   "execution_count": 134,
   "metadata": {},
   "outputs": [],
   "source": [
    "model = Model0()"
   ]
  },
  {
   "cell_type": "code",
   "execution_count": 135,
   "metadata": {},
   "outputs": [
    {
     "data": {
      "text/plain": [
       "(tensor([0.]),\n",
       " tensor([-0.0574], grad_fn=<SelectBackward>),\n",
       " torch.Size([64, 1]))"
      ]
     },
     "execution_count": 135,
     "metadata": {},
     "output_type": "execute_result"
    }
   ],
   "source": [
    "bs=64\n",
    "\n",
    "xb = train_x[0:bs]\n",
    "preds = model(xb)\n",
    "xb[0], preds[0], preds.shape"
   ]
  },
  {
   "cell_type": "code",
   "execution_count": 136,
   "metadata": {},
   "outputs": [],
   "source": [
    "yb = train_y[:bs]"
   ]
  },
  {
   "cell_type": "code",
   "execution_count": 137,
   "metadata": {},
   "outputs": [],
   "source": [
    "def rmse(output, targ): return (output.squeeze(-1) - targ).pow(2).mean().sqrt()"
   ]
  },
  {
   "cell_type": "code",
   "execution_count": 138,
   "metadata": {},
   "outputs": [
    {
     "data": {
      "text/plain": [
       "tensor(10.2421, grad_fn=<SqrtBackward>)"
      ]
     },
     "execution_count": 138,
     "metadata": {},
     "output_type": "execute_result"
    }
   ],
   "source": [
    "rmse(model(train_x[0:bs]), yb[:bs])"
   ]
  },
  {
   "cell_type": "code",
   "execution_count": 139,
   "metadata": {},
   "outputs": [],
   "source": [
    "def fit(model, X, Y, loss_func=rmse,epochs=10, bs=64, lr=0.5, metrics=None):\n",
    "    for epoch in range(epochs):\n",
    "        for i in range((len(X)-1)//bs + 1):\n",
    "            start_i = i*bs\n",
    "            end_i = start_i+bs\n",
    "            xb = X[start_i:end_i]\n",
    "            yb = Y[start_i:end_i]\n",
    "            \n",
    "            loss = loss_func(model(xb), yb)\n",
    "                \n",
    "            loss.backward()\n",
    "            with torch.no_grad():\n",
    "                for l in [model.lin, model.out]:\n",
    "                    l.weight -= l.weight.grad * lr\n",
    "                    l.bias   -= l.bias.grad   * lr\n",
    "                    l.weight.grad.zero_()\n",
    "                    l.bias  .grad.zero_()\n",
    "        with torch.no_grad():\n",
    "            print('epoch: ', epoch, 'train-loss: ', loss_func(model(X), Y))"
   ]
  },
  {
   "cell_type": "code",
   "execution_count": 140,
   "metadata": {},
   "outputs": [
    {
     "name": "stdout",
     "output_type": "stream",
     "text": [
      "epoch:  0 train-loss:  tensor(7.2183)\n",
      "epoch:  1 train-loss:  tensor(40.9822)\n",
      "epoch:  2 train-loss:  tensor(88.8809)\n",
      "epoch:  3 train-loss:  tensor(57.2510)\n",
      "epoch:  4 train-loss:  tensor(41.9082)\n",
      "epoch:  5 train-loss:  tensor(83.3986)\n",
      "epoch:  6 train-loss:  tensor(98.7824)\n",
      "epoch:  7 train-loss:  tensor(61.9085)\n",
      "epoch:  8 train-loss:  tensor(41.9464)\n",
      "epoch:  9 train-loss:  tensor(83.0942)\n"
     ]
    }
   ],
   "source": [
    "model = Model0()\n",
    "fit(model, train_x, train_y, lr=0.001, epochs=10)"
   ]
  },
  {
   "cell_type": "code",
   "execution_count": 141,
   "metadata": {},
   "outputs": [
    {
     "data": {
      "text/plain": [
       "tensor(4.3007, grad_fn=<SqrtBackward>)"
      ]
     },
     "execution_count": 141,
     "metadata": {},
     "output_type": "execute_result"
    }
   ],
   "source": [
    "rmse(model(train_x[0:bs]), yb[:bs])"
   ]
  },
  {
   "cell_type": "code",
   "execution_count": 142,
   "metadata": {},
   "outputs": [
    {
     "name": "stdout",
     "output_type": "stream",
     "text": [
      "lin: Linear(in_features=1, out_features=50, bias=True)\n",
      "out: Linear(in_features=50, out_features=1, bias=True)\n"
     ]
    }
   ],
   "source": [
    "for name,l in model.named_children(): print(f\"{name}: {l}\")"
   ]
  },
  {
   "cell_type": "code",
   "execution_count": 143,
   "metadata": {},
   "outputs": [],
   "source": [
    "from torch import optim"
   ]
  },
  {
   "cell_type": "code",
   "execution_count": 144,
   "metadata": {},
   "outputs": [],
   "source": [
    "def fit(model, X, Y, loss_func=rmse,epochs=10, bs=64, opt=None, metrics=None):\n",
    "    for epoch in range(epochs):\n",
    "        model.train()\n",
    "        for i in range((len(X)-1)//bs + 1):\n",
    "            start_i = i*bs\n",
    "            end_i = start_i+bs\n",
    "            xb = X[start_i:end_i]\n",
    "            yb = Y[start_i:end_i]\n",
    "            \n",
    "            loss = loss_func(model(xb), yb)\n",
    "                \n",
    "            loss.backward()\n",
    "            opt.step()\n",
    "        model.eval()\n",
    "        with torch.no_grad():\n",
    "            print('epoch: ', epoch, 'train-loss: ', loss_func(model(X), Y))"
   ]
  },
  {
   "cell_type": "code",
   "execution_count": 145,
   "metadata": {},
   "outputs": [
    {
     "name": "stdout",
     "output_type": "stream",
     "text": [
      "epoch:  0 train-loss:  tensor(8.1604)\n",
      "epoch:  1 train-loss:  tensor(65.4198)\n",
      "epoch:  2 train-loss:  tensor(65.2275)\n",
      "epoch:  3 train-loss:  tensor(64.8878)\n",
      "epoch:  4 train-loss:  tensor(64.4015)\n",
      "epoch:  5 train-loss:  tensor(63.7698)\n",
      "epoch:  6 train-loss:  tensor(62.9943)\n",
      "epoch:  7 train-loss:  tensor(62.0775)\n",
      "epoch:  8 train-loss:  tensor(61.0227)\n",
      "epoch:  9 train-loss:  tensor(59.8347)\n",
      "epoch:  10 train-loss:  tensor(58.5202)\n"
     ]
    }
   ],
   "source": [
    "model = Model0()\n",
    "fit(model, train_x, train_y, epochs=11, opt=optim.SGD(model.parameters(), lr=0.001))"
   ]
  },
  {
   "cell_type": "code",
   "execution_count": 146,
   "metadata": {},
   "outputs": [
    {
     "data": {
      "text/plain": [
       "tensor(3.9106, grad_fn=<SqrtBackward>)"
      ]
     },
     "execution_count": 146,
     "metadata": {},
     "output_type": "execute_result"
    }
   ],
   "source": [
    "rmse(model(train_x[0:bs]), yb[:bs])"
   ]
  },
  {
   "cell_type": "code",
   "execution_count": 147,
   "metadata": {},
   "outputs": [
    {
     "data": {
      "text/plain": [
       "tensor([-16.3248], grad_fn=<AddBackward0>)"
      ]
     },
     "execution_count": 147,
     "metadata": {},
     "output_type": "execute_result"
    }
   ],
   "source": [
    "model(train_x[0])"
   ]
  },
  {
   "cell_type": "markdown",
   "metadata": {},
   "source": [
    "## Normalize"
   ]
  },
  {
   "cell_type": "code",
   "execution_count": 148,
   "metadata": {},
   "outputs": [],
   "source": [
    "def normalize(x, m, s): return (x-m)/s"
   ]
  },
  {
   "cell_type": "code",
   "execution_count": 149,
   "metadata": {},
   "outputs": [
    {
     "data": {
      "text/plain": [
       "(tensor(399.5000), tensor(231.0844))"
      ]
     },
     "execution_count": 149,
     "metadata": {},
     "output_type": "execute_result"
    }
   ],
   "source": [
    "train_mean,train_std = train_x.mean(),train_x.std()\n",
    "train_mean,train_std"
   ]
  },
  {
   "cell_type": "code",
   "execution_count": 150,
   "metadata": {},
   "outputs": [],
   "source": [
    "train_x = normalize(train_x, train_mean, train_std)\n",
    "valid_x = normalize(valid_x, train_mean, train_std)"
   ]
  },
  {
   "cell_type": "code",
   "execution_count": 151,
   "metadata": {},
   "outputs": [
    {
     "data": {
      "text/plain": [
       "(tensor(-1.3411e-09), tensor(1.))"
      ]
     },
     "execution_count": 151,
     "metadata": {},
     "output_type": "execute_result"
    }
   ],
   "source": [
    "train_x.mean(),train_x.std()"
   ]
  },
  {
   "cell_type": "code",
   "execution_count": 152,
   "metadata": {},
   "outputs": [
    {
     "name": "stdout",
     "output_type": "stream",
     "text": [
      "epoch:  0 train-loss:  tensor(64.9159)\n",
      "epoch:  1 train-loss:  tensor(62.9049)\n",
      "epoch:  2 train-loss:  tensor(59.1113)\n",
      "epoch:  3 train-loss:  tensor(52.3038)\n",
      "epoch:  4 train-loss:  tensor(39.3346)\n",
      "epoch:  5 train-loss:  tensor(15.5663)\n",
      "epoch:  6 train-loss:  tensor(29.3599)\n",
      "epoch:  7 train-loss:  tensor(45.8462)\n",
      "epoch:  8 train-loss:  tensor(36.2980)\n",
      "epoch:  9 train-loss:  tensor(22.4976)\n"
     ]
    }
   ],
   "source": [
    "model = Model0()\n",
    "fit(model, train_x, train_y, epochs=10, opt=optim.SGD(model.parameters(), lr=0.001))"
   ]
  },
  {
   "cell_type": "markdown",
   "metadata": {},
   "source": [
    "## Adam"
   ]
  },
  {
   "cell_type": "code",
   "execution_count": 153,
   "metadata": {},
   "outputs": [
    {
     "name": "stdout",
     "output_type": "stream",
     "text": [
      "epoch:  0 train-loss:  tensor(64.0016)\n",
      "epoch:  1 train-loss:  tensor(61.1815)\n",
      "epoch:  2 train-loss:  tensor(56.3968)\n",
      "epoch:  3 train-loss:  tensor(48.9029)\n",
      "epoch:  4 train-loss:  tensor(38.2185)\n",
      "epoch:  5 train-loss:  tensor(24.5819)\n",
      "epoch:  6 train-loss:  tensor(14.3441)\n",
      "epoch:  7 train-loss:  tensor(28.6076)\n",
      "epoch:  8 train-loss:  tensor(46.3908)\n",
      "epoch:  9 train-loss:  tensor(53.7689)\n"
     ]
    }
   ],
   "source": [
    "model = Model0()\n",
    "fit(model, train_x, train_y, epochs=10, opt=optim.Adam(model.parameters(), lr=0.01))"
   ]
  },
  {
   "cell_type": "markdown",
   "metadata": {},
   "source": [
    "## Regularization"
   ]
  },
  {
   "cell_type": "code",
   "execution_count": 154,
   "metadata": {},
   "outputs": [
    {
     "name": "stdout",
     "output_type": "stream",
     "text": [
      "epoch:  0 train-loss:  tensor(64.2175)\n",
      "epoch:  1 train-loss:  tensor(63.1123)\n",
      "epoch:  2 train-loss:  tensor(62.0904)\n",
      "epoch:  3 train-loss:  tensor(59.9653)\n",
      "epoch:  4 train-loss:  tensor(55.1754)\n",
      "epoch:  5 train-loss:  tensor(46.4423)\n",
      "epoch:  6 train-loss:  tensor(32.8039)\n",
      "epoch:  7 train-loss:  tensor(13.7052)\n",
      "epoch:  8 train-loss:  tensor(11.8694)\n",
      "epoch:  9 train-loss:  tensor(17.8603)\n"
     ]
    }
   ],
   "source": [
    "model = Model0()\n",
    "fit(model, train_x, train_y, epochs=10, opt=optim.Adam(model.parameters(), lr=0.01, weight_decay=0.5))"
   ]
  },
  {
   "cell_type": "code",
   "execution_count": 155,
   "metadata": {},
   "outputs": [
    {
     "data": {
      "image/png": "[encoded data removed]",
      "text/plain": [
       "<Figure size 432x288 with 1 Axes>"
      ]
     },
     "metadata": {
      "needs_background": "light"
     },
     "output_type": "display_data"
    }
   ],
   "source": [
    "with torch.no_grad():\n",
    "    plt.scatter(train_x[0:50], model(train_x[0:50]))\n",
    "    plt.show()"
   ]
  },
  {
   "cell_type": "markdown",
   "metadata": {},
   "source": [
    "## Batch-size - speed"
   ]
  },
  {
   "cell_type": "code",
   "execution_count": 156,
   "metadata": {},
   "outputs": [],
   "source": [
    "model = Model0()"
   ]
  },
  {
   "cell_type": "code",
   "execution_count": 157,
   "metadata": {},
   "outputs": [
    {
     "name": "stdout",
     "output_type": "stream",
     "text": [
      "epoch:  0 train-loss:  tensor(250.4266)\n",
      "epoch:  1 train-loss:  tensor(142.5893)\n",
      "epoch:  2 train-loss:  tensor(184.5352)\n",
      "epoch:  3 train-loss:  tensor(459.9965)\n",
      "epoch:  4 train-loss:  tensor(1299.4797)\n",
      "epoch:  5 train-loss:  tensor(1913.6932)\n",
      "epoch:  6 train-loss:  tensor(772.7200)\n",
      "epoch:  7 train-loss:  tensor(58.9437)\n",
      "epoch:  8 train-loss:  tensor(184.7767)\n",
      "epoch:  9 train-loss:  tensor(192.7602)\n",
      "CPU times: user 3.58 s, sys: 148 ms, total: 3.73 s\n",
      "Wall time: 3.74 s\n"
     ]
    }
   ],
   "source": [
    "%time fit(model, train_x, train_y, epochs=10, opt=optim.Adam(model.parameters(), lr=0.01), bs=1)"
   ]
  },
  {
   "cell_type": "code",
   "execution_count": 158,
   "metadata": {},
   "outputs": [
    {
     "name": "stdout",
     "output_type": "stream",
     "text": [
      "epoch:  0 train-loss:  tensor(195.8223)\n",
      "epoch:  1 train-loss:  tensor(199.1195)\n",
      "epoch:  2 train-loss:  tensor(202.5875)\n",
      "epoch:  3 train-loss:  tensor(206.1645)\n",
      "epoch:  4 train-loss:  tensor(209.7884)\n",
      "epoch:  5 train-loss:  tensor(213.4239)\n",
      "epoch:  6 train-loss:  tensor(217.0175)\n",
      "epoch:  7 train-loss:  tensor(220.5327)\n",
      "epoch:  8 train-loss:  tensor(223.9276)\n",
      "epoch:  9 train-loss:  tensor(227.1666)\n",
      "CPU times: user 88 ms, sys: 8 ms, total: 96 ms\n",
      "Wall time: 90.7 ms\n"
     ]
    }
   ],
   "source": [
    "%time fit(model, train_x, train_y, epochs=10, opt=optim.Adam(model.parameters(), lr=0.01), bs=64)"
   ]
  },
  {
   "cell_type": "code",
   "execution_count": 40,
   "metadata": {},
   "outputs": [
    {
     "name": "stdout",
     "output_type": "stream",
     "text": [
      "epoch:  0 train-loss:  tensor(70.0161)\n",
      "epoch:  1 train-loss:  tensor(70.0260)\n",
      "epoch:  2 train-loss:  tensor(70.0357)\n",
      "epoch:  3 train-loss:  tensor(70.0454)\n",
      "epoch:  4 train-loss:  tensor(70.0560)\n",
      "epoch:  5 train-loss:  tensor(70.0674)\n",
      "epoch:  6 train-loss:  tensor(70.0787)\n",
      "epoch:  7 train-loss:  tensor(70.0900)\n",
      "epoch:  8 train-loss:  tensor(70.1016)\n",
      "epoch:  9 train-loss:  tensor(70.1142)\n",
      "CPU times: user 56 ms, sys: 8 ms, total: 64 ms\n",
      "Wall time: 34.5 ms\n"
     ]
    }
   ],
   "source": [
    "%time fit(model, train_x, train_y, epochs=10, opt=optim.Adam(model.parameters(), lr=0.01), bs=1000)"
   ]
  },
  {
   "cell_type": "markdown",
   "metadata": {},
   "source": [
    "## Batchnorm"
   ]
  },
  {
   "cell_type": "code",
   "execution_count": 159,
   "metadata": {},
   "outputs": [],
   "source": [
    "class Model1(nn.Module):\n",
    "    def __init__(self):\n",
    "        super().__init__()\n",
    "        self.lin = nn.Linear(1, 50)\n",
    "        self.out = nn.Linear(50, 1)\n",
    "        self.bn = nn.BatchNorm1d(50)\n",
    "    \n",
    "    def forward(self, x):\n",
    "        return self.out(self.bn(F.relu(self.lin(x))))"
   ]
  },
  {
   "cell_type": "code",
   "execution_count": 160,
   "metadata": {},
   "outputs": [
    {
     "data": {
      "text/plain": [
       "tensor(7.7710, grad_fn=<SqrtBackward>)"
      ]
     },
     "execution_count": 160,
     "metadata": {},
     "output_type": "execute_result"
    }
   ],
   "source": [
    "model = Model1()\n",
    "rmse(model(train_x[0:bs]), yb[:bs])"
   ]
  },
  {
   "cell_type": "code",
   "execution_count": 161,
   "metadata": {},
   "outputs": [
    {
     "data": {
      "image/png": "[encoded data removed]",
      "text/plain": [
       "<Figure size 432x288 with 1 Axes>"
      ]
     },
     "metadata": {
      "needs_background": "light"
     },
     "output_type": "display_data"
    }
   ],
   "source": [
    "with torch.no_grad():\n",
    "    plt.scatter(train_x[0:50], model(train_x[0:50]))\n",
    "    plt.show()"
   ]
  },
  {
   "cell_type": "code",
   "execution_count": 162,
   "metadata": {},
   "outputs": [
    {
     "name": "stdout",
     "output_type": "stream",
     "text": [
      "epoch:  0 train-loss:  tensor(64.8108)\n",
      "epoch:  1 train-loss:  tensor(62.8491)\n",
      "epoch:  2 train-loss:  tensor(62.0029)\n",
      "epoch:  3 train-loss:  tensor(53.0166)\n",
      "epoch:  4 train-loss:  tensor(51.6570)\n",
      "epoch:  5 train-loss:  tensor(43.4305)\n",
      "epoch:  6 train-loss:  tensor(68.2420)\n",
      "epoch:  7 train-loss:  tensor(142.9000)\n",
      "epoch:  8 train-loss:  tensor(113.7569)\n",
      "epoch:  9 train-loss:  tensor(64.7408)\n"
     ]
    },
    {
     "data": {
      "text/plain": [
       "tensor(113.5960, grad_fn=<SqrtBackward>)"
      ]
     },
     "execution_count": 162,
     "metadata": {},
     "output_type": "execute_result"
    }
   ],
   "source": [
    "fit(model, train_x, train_y, epochs=10, opt=optim.Adam(model.parameters(), lr=0.01))\n",
    "rmse(model(train_x[0:bs]), yb[:bs])"
   ]
  },
  {
   "cell_type": "code",
   "execution_count": 163,
   "metadata": {},
   "outputs": [
    {
     "data": {
      "image/png": "[encoded data removed]",
      "text/plain": [
       "<Figure size 432x288 with 1 Axes>"
      ]
     },
     "metadata": {
      "needs_background": "light"
     },
     "output_type": "display_data"
    }
   ],
   "source": [
    "with torch.no_grad():\n",
    "    plt.scatter(train_x[0:50], model(train_x[0:50]))\n",
    "    plt.show()"
   ]
  },
  {
   "cell_type": "markdown",
   "metadata": {},
   "source": [
    "## With fastai"
   ]
  },
  {
   "cell_type": "code",
   "execution_count": 164,
   "metadata": {},
   "outputs": [],
   "source": [
    "from fastai import *\n",
    "from fastai.text import *"
   ]
  },
  {
   "cell_type": "code",
   "execution_count": 165,
   "metadata": {},
   "outputs": [],
   "source": [
    "bs=64"
   ]
  },
  {
   "cell_type": "code",
   "execution_count": 166,
   "metadata": {},
   "outputs": [],
   "source": [
    "class DatasetL(Dataset):\n",
    "    def __init__(self, x, y): self.x,self.y = x,y\n",
    "    def __len__(self): return len(self.x)\n",
    "    def __getitem__(self, i): return self.x[i],self.y[i]"
   ]
  },
  {
   "cell_type": "code",
   "execution_count": 173,
   "metadata": {},
   "outputs": [],
   "source": [
    "data = (DataBunch(DataLoader(DatasetL(train_x, train_y), bs, shuffle=True), \n",
    "                DataLoader(DatasetL(valid_x, valid_y), bs, shuffle=False)))"
   ]
  },
  {
   "cell_type": "code",
   "execution_count": 174,
   "metadata": {},
   "outputs": [],
   "source": [
    "learner = Learner(data, Model1(), loss_func=rmse)"
   ]
  },
  {
   "cell_type": "code",
   "execution_count": 175,
   "metadata": {},
   "outputs": [
    {
     "data": {
      "text/html": [
       "<table border=\"1\" class=\"dataframe\">\n",
       "  <thead>\n",
       "    <tr style=\"text-align: left;\">\n",
       "      <th>epoch</th>\n",
       "      <th>train_loss</th>\n",
       "      <th>valid_loss</th>\n",
       "      <th>time</th>\n",
       "    </tr>\n",
       "  </thead>\n",
       "  <tbody>\n",
       "    <tr>\n",
       "      <td>0</td>\n",
       "      <td>64.522514</td>\n",
       "      <td>108.962914</td>\n",
       "      <td>00:00</td>\n",
       "    </tr>\n",
       "    <tr>\n",
       "      <td>1</td>\n",
       "      <td>62.683258</td>\n",
       "      <td>98.467133</td>\n",
       "      <td>00:00</td>\n",
       "    </tr>\n",
       "    <tr>\n",
       "      <td>2</td>\n",
       "      <td>59.667717</td>\n",
       "      <td>82.730057</td>\n",
       "      <td>00:00</td>\n",
       "    </tr>\n",
       "    <tr>\n",
       "      <td>3</td>\n",
       "      <td>55.283489</td>\n",
       "      <td>64.045158</td>\n",
       "      <td>00:00</td>\n",
       "    </tr>\n",
       "    <tr>\n",
       "      <td>4</td>\n",
       "      <td>49.048973</td>\n",
       "      <td>41.003139</td>\n",
       "      <td>00:00</td>\n",
       "    </tr>\n",
       "    <tr>\n",
       "      <td>5</td>\n",
       "      <td>41.105141</td>\n",
       "      <td>26.196064</td>\n",
       "      <td>00:00</td>\n",
       "    </tr>\n",
       "    <tr>\n",
       "      <td>6</td>\n",
       "      <td>32.081734</td>\n",
       "      <td>3.969529</td>\n",
       "      <td>00:00</td>\n",
       "    </tr>\n",
       "    <tr>\n",
       "      <td>7</td>\n",
       "      <td>24.671066</td>\n",
       "      <td>7.384361</td>\n",
       "      <td>00:00</td>\n",
       "    </tr>\n",
       "    <tr>\n",
       "      <td>8</td>\n",
       "      <td>19.326067</td>\n",
       "      <td>12.460004</td>\n",
       "      <td>00:00</td>\n",
       "    </tr>\n",
       "    <tr>\n",
       "      <td>9</td>\n",
       "      <td>15.304518</td>\n",
       "      <td>0.522137</td>\n",
       "      <td>00:00</td>\n",
       "    </tr>\n",
       "    <tr>\n",
       "      <td>10</td>\n",
       "      <td>12.564139</td>\n",
       "      <td>9.883256</td>\n",
       "      <td>00:00</td>\n",
       "    </tr>\n",
       "    <tr>\n",
       "      <td>11</td>\n",
       "      <td>10.933557</td>\n",
       "      <td>1.342407</td>\n",
       "      <td>00:00</td>\n",
       "    </tr>\n",
       "    <tr>\n",
       "      <td>12</td>\n",
       "      <td>9.599441</td>\n",
       "      <td>6.884373</td>\n",
       "      <td>00:00</td>\n",
       "    </tr>\n",
       "    <tr>\n",
       "      <td>13</td>\n",
       "      <td>8.408237</td>\n",
       "      <td>10.123157</td>\n",
       "      <td>00:00</td>\n",
       "    </tr>\n",
       "    <tr>\n",
       "      <td>14</td>\n",
       "      <td>7.437408</td>\n",
       "      <td>0.629820</td>\n",
       "      <td>00:00</td>\n",
       "    </tr>\n",
       "    <tr>\n",
       "      <td>15</td>\n",
       "      <td>6.755689</td>\n",
       "      <td>4.817102</td>\n",
       "      <td>00:00</td>\n",
       "    </tr>\n",
       "    <tr>\n",
       "      <td>16</td>\n",
       "      <td>6.116800</td>\n",
       "      <td>1.190694</td>\n",
       "      <td>00:00</td>\n",
       "    </tr>\n",
       "    <tr>\n",
       "      <td>17</td>\n",
       "      <td>5.566786</td>\n",
       "      <td>2.643137</td>\n",
       "      <td>00:00</td>\n",
       "    </tr>\n",
       "    <tr>\n",
       "      <td>18</td>\n",
       "      <td>5.250567</td>\n",
       "      <td>4.726314</td>\n",
       "      <td>00:00</td>\n",
       "    </tr>\n",
       "    <tr>\n",
       "      <td>19</td>\n",
       "      <td>5.342160</td>\n",
       "      <td>9.574711</td>\n",
       "      <td>00:00</td>\n",
       "    </tr>\n",
       "    <tr>\n",
       "      <td>20</td>\n",
       "      <td>5.169410</td>\n",
       "      <td>7.423450</td>\n",
       "      <td>00:00</td>\n",
       "    </tr>\n",
       "    <tr>\n",
       "      <td>21</td>\n",
       "      <td>4.937121</td>\n",
       "      <td>6.917659</td>\n",
       "      <td>00:00</td>\n",
       "    </tr>\n",
       "    <tr>\n",
       "      <td>22</td>\n",
       "      <td>4.654325</td>\n",
       "      <td>7.592155</td>\n",
       "      <td>00:00</td>\n",
       "    </tr>\n",
       "    <tr>\n",
       "      <td>23</td>\n",
       "      <td>4.346178</td>\n",
       "      <td>8.441220</td>\n",
       "      <td>00:00</td>\n",
       "    </tr>\n",
       "    <tr>\n",
       "      <td>24</td>\n",
       "      <td>4.619761</td>\n",
       "      <td>2.838374</td>\n",
       "      <td>00:00</td>\n",
       "    </tr>\n",
       "    <tr>\n",
       "      <td>25</td>\n",
       "      <td>4.391182</td>\n",
       "      <td>5.423877</td>\n",
       "      <td>00:00</td>\n",
       "    </tr>\n",
       "    <tr>\n",
       "      <td>26</td>\n",
       "      <td>4.300715</td>\n",
       "      <td>3.128766</td>\n",
       "      <td>00:00</td>\n",
       "    </tr>\n",
       "    <tr>\n",
       "      <td>27</td>\n",
       "      <td>4.328392</td>\n",
       "      <td>1.305657</td>\n",
       "      <td>00:00</td>\n",
       "    </tr>\n",
       "    <tr>\n",
       "      <td>28</td>\n",
       "      <td>4.305479</td>\n",
       "      <td>2.230739</td>\n",
       "      <td>00:00</td>\n",
       "    </tr>\n",
       "    <tr>\n",
       "      <td>29</td>\n",
       "      <td>4.117693</td>\n",
       "      <td>24.389997</td>\n",
       "      <td>00:00</td>\n",
       "    </tr>\n",
       "  </tbody>\n",
       "</table>"
      ],
      "text/plain": [
       "<IPython.core.display.HTML object>"
      ]
     },
     "metadata": {},
     "output_type": "display_data"
    }
   ],
   "source": [
    "learner.fit(30, lr=0.01)"
   ]
  },
  {
   "cell_type": "code",
   "execution_count": 176,
   "metadata": {},
   "outputs": [
    {
     "data": {
      "image/png": "[encoded data removed]",
      "text/plain": [
       "<Figure size 432x288 with 1 Axes>"
      ]
     },
     "metadata": {
      "needs_background": "light"
     },
     "output_type": "display_data"
    }
   ],
   "source": [
    "learner.recorder.plot_losses()"
   ]
  }
 ],
 "metadata": {
  "kernelspec": {
   "display_name": "Python 3",
   "language": "python",
   "name": "python3"
  },
  "language_info": {
   "codemirror_mode": {
    "name": "ipython",
    "version": 3
   },
   "file_extension": ".py",
   "mimetype": "text/x-python",
   "name": "python",
   "nbconvert_exporter": "python",
   "pygments_lexer": "ipython3",
   "version": "3.6.3"
  }
 },
 "nbformat": 4,
 "nbformat_minor": 4
}
