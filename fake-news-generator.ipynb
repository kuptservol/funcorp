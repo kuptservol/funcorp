{
 "cells": [
  {
   "cell_type": "code",
   "execution_count": 1,
   "metadata": {},
   "outputs": [],
   "source": [
    "%reload_ext autoreload\n",
    "%autoreload 2"
   ]
  },
  {
   "cell_type": "code",
   "execution_count": 18,
   "metadata": {},
   "outputs": [
    {
     "name": "stdout",
     "output_type": "stream",
     "text": [
      "download_lenta.py\t\t    lenta_titles_lm\r\n",
      "lenta-ru-news-2019-2020.csv\t    README.md\r\n",
      "lenta-ru-news-2019-2020-titles.csv  requirements.txt\r\n"
     ]
    }
   ],
   "source": [
    "!ls ~/.datasets/Lenta.Ru-News-Dataset"
   ]
  },
  {
   "cell_type": "code",
   "execution_count": 19,
   "metadata": {},
   "outputs": [],
   "source": [
    "DATA_PATH = f'/home/kuptservol/.datasets/Lenta.Ru-News-Dataset/lenta-ru-news-2019-2020.csv'"
   ]
  },
  {
   "cell_type": "code",
   "execution_count": 20,
   "metadata": {},
   "outputs": [],
   "source": [
    "import pandas as pd"
   ]
  },
  {
   "cell_type": "code",
   "execution_count": null,
   "metadata": {},
   "outputs": [],
   "source": [
    "lenta = pd.read_csv(DATA_PATH);"
   ]
  },
  {
   "cell_type": "code",
   "execution_count": 16,
   "metadata": {},
   "outputs": [],
   "source": [
    "titles = lenta['title']"
   ]
  },
  {
   "cell_type": "code",
   "execution_count": 13,
   "metadata": {},
   "outputs": [
    {
     "name": "stderr",
     "output_type": "stream",
     "text": [
      "/home/kuptservol/soft/anaconda3/lib/python3.7/site-packages/ipykernel_launcher.py:1: FutureWarning: The signature of `Series.to_csv` was aligned to that of `DataFrame.to_csv`, and argument 'header' will change its default value from False to True: please pass an explicit value to suppress this warning.\n",
      "  \"\"\"Entry point for launching an IPython kernel.\n"
     ]
    }
   ],
   "source": [
    "titles.to_csv('/home/kuptservol/.datasets/Lenta.Ru-News-Dataset/lenta-ru-news-2019-2020-titles.csv', index=False)"
   ]
  },
  {
   "cell_type": "code",
   "execution_count": 21,
   "metadata": {},
   "outputs": [],
   "source": [
    "TITLES = f'/home/kuptservol/.datasets/Lenta.Ru-News-Dataset/lenta-ru-news-2019-2020-titles.csv'"
   ]
  },
  {
   "cell_type": "markdown",
   "metadata": {},
   "source": [
    "## FastAI Pretrained transfer learned russian wiki"
   ]
  },
  {
   "cell_type": "code",
   "execution_count": 22,
   "metadata": {},
   "outputs": [],
   "source": [
    "from fastai import *\n",
    "from fastai.text import *"
   ]
  },
  {
   "cell_type": "code",
   "execution_count": 23,
   "metadata": {},
   "outputs": [],
   "source": [
    "torch.cuda.set_device(0)"
   ]
  },
  {
   "cell_type": "code",
   "execution_count": 24,
   "metadata": {},
   "outputs": [],
   "source": [
    "data_path = Config.data_path()"
   ]
  },
  {
   "cell_type": "code",
   "execution_count": 25,
   "metadata": {},
   "outputs": [],
   "source": [
    "lang = 'ru'\n",
    "name = f'{lang}wiki'\n",
    "path = data_path/name"
   ]
  },
  {
   "cell_type": "code",
   "execution_count": 26,
   "metadata": {},
   "outputs": [
    {
     "name": "stdout",
     "output_type": "stream",
     "text": [
      "data_lm\t\t\t\t    ru_databunch\r\n",
      "docs\t\t\t\t    ru_textlist_class\r\n",
      "lenta-ru-news-2019-2020-titles.csv  ruwiki\r\n",
      "lenta_titles_lm\t\t\t    ruwiki-latest-pages-articles.xml\r\n",
      "log\t\t\t\t    wikiextractor\r\n",
      "models\r\n"
     ]
    }
   ],
   "source": [
    "! ls {path}"
   ]
  },
  {
   "cell_type": "code",
   "execution_count": 27,
   "metadata": {},
   "outputs": [],
   "source": [
    "! cp {TITLES} {path}"
   ]
  },
  {
   "cell_type": "code",
   "execution_count": 28,
   "metadata": {},
   "outputs": [],
   "source": [
    "# bs=48\n",
    "# bs=24\n",
    "bs=128"
   ]
  },
  {
   "cell_type": "code",
   "execution_count": 34,
   "metadata": {},
   "outputs": [
    {
     "data": {
      "text/html": [],
      "text/plain": [
       "<IPython.core.display.HTML object>"
      ]
     },
     "metadata": {},
     "output_type": "display_data"
    },
    {
     "data": {
      "text/html": [],
      "text/plain": [
       "<IPython.core.display.HTML object>"
      ]
     },
     "metadata": {},
     "output_type": "display_data"
    }
   ],
   "source": [
    "lenta_titles_lm = (TextList.from_csv(path, 'lenta-ru-news-2019-2020-titles.csv')\n",
    "    .split_by_rand_pct(0.1, seed=42)\n",
    "    .label_for_lm()           \n",
    "    .databunch(bs=bs, num_workers=1))"
   ]
  },
  {
   "cell_type": "code",
   "execution_count": 35,
   "metadata": {},
   "outputs": [],
   "source": [
    "lenta_titles_lm.save(f'lenta_titles_lm')"
   ]
  },
  {
   "cell_type": "code",
   "execution_count": 29,
   "metadata": {},
   "outputs": [],
   "source": [
    "lenta_titles_lm = load_data(path, 'lenta_titles_lm', bs=bs)"
   ]
  },
  {
   "cell_type": "code",
   "execution_count": 30,
   "metadata": {},
   "outputs": [],
   "source": [
    "import warnings\n",
    "warnings.filterwarnings('ignore')"
   ]
  },
  {
   "cell_type": "code",
   "execution_count": 34,
   "metadata": {},
   "outputs": [],
   "source": [
    "lm_fns = ['ru_wt.4', 'ru_wt_vocab']"
   ]
  },
  {
   "cell_type": "code",
   "execution_count": 35,
   "metadata": {},
   "outputs": [],
   "source": [
    "learn_lm = language_model_learner(lenta_titles_lm, AWD_LSTM, pretrained_fnames=lm_fns, drop_mult=1.0)"
   ]
  },
  {
   "cell_type": "code",
   "execution_count": 39,
   "metadata": {},
   "outputs": [
    {
     "data": {
      "text/html": [
       "\n",
       "    <div>\n",
       "        <style>\n",
       "            /* Turns off some styling */\n",
       "            progress {\n",
       "                /* gets rid of default border in Firefox and Opera. */\n",
       "                border: none;\n",
       "                /* Needs to be in here for Safari polyfill so background images work as expected. */\n",
       "                background-size: auto;\n",
       "            }\n",
       "            .progress-bar-interrupted, .progress-bar-interrupted::-webkit-progress-bar {\n",
       "                background: #F44336;\n",
       "            }\n",
       "        </style>\n",
       "      <progress value='0' class='' max='1', style='width:300px; height:20px; vertical-align: middle;'></progress>\n",
       "      0.00% [0/1 00:00<00:00]\n",
       "    </div>\n",
       "    \n",
       "<table border=\"1\" class=\"dataframe\">\n",
       "  <thead>\n",
       "    <tr style=\"text-align: left;\">\n",
       "      <th>epoch</th>\n",
       "      <th>train_loss</th>\n",
       "      <th>valid_loss</th>\n",
       "      <th>accuracy</th>\n",
       "      <th>time</th>\n",
       "    </tr>\n",
       "  </thead>\n",
       "  <tbody>\n",
       "  </tbody>\n",
       "</table><p>\n",
       "\n",
       "    <div>\n",
       "        <style>\n",
       "            /* Turns off some styling */\n",
       "            progress {\n",
       "                /* gets rid of default border in Firefox and Opera. */\n",
       "                border: none;\n",
       "                /* Needs to be in here for Safari polyfill so background images work as expected. */\n",
       "                background-size: auto;\n",
       "            }\n",
       "            .progress-bar-interrupted, .progress-bar-interrupted::-webkit-progress-bar {\n",
       "                background: #F44336;\n",
       "            }\n",
       "        </style>\n",
       "      <progress value='99' class='' max='115', style='width:300px; height:20px; vertical-align: middle;'></progress>\n",
       "      86.09% [99/115 00:20<00:03 12.5467]\n",
       "    </div>\n",
       "    "
      ],
      "text/plain": [
       "<IPython.core.display.HTML object>"
      ]
     },
     "metadata": {},
     "output_type": "display_data"
    },
    {
     "name": "stdout",
     "output_type": "stream",
     "text": [
      "LR Finder is complete, type {learner_name}.recorder.plot() to see the graph.\n"
     ]
    }
   ],
   "source": [
    "learn_lm.lr_find()"
   ]
  },
  {
   "cell_type": "code",
   "execution_count": 40,
   "metadata": {},
   "outputs": [
    {
     "data": {
      "image/png": "[encoded data removed]",
      "text/plain": [
       "<Figure size 432x288 with 1 Axes>"
      ]
     },
     "metadata": {
      "needs_background": "light"
     },
     "output_type": "display_data"
    }
   ],
   "source": [
    "learn_lm.recorder.plot()"
   ]
  },
  {
   "cell_type": "code",
   "execution_count": 36,
   "metadata": {},
   "outputs": [],
   "source": [
    "lr = 1e-2"
   ]
  },
  {
   "cell_type": "code",
   "execution_count": 37,
   "metadata": {},
   "outputs": [
    {
     "data": {
      "text/html": [
       "<table border=\"1\" class=\"dataframe\">\n",
       "  <thead>\n",
       "    <tr style=\"text-align: left;\">\n",
       "      <th>epoch</th>\n",
       "      <th>train_loss</th>\n",
       "      <th>valid_loss</th>\n",
       "      <th>accuracy</th>\n",
       "      <th>time</th>\n",
       "    </tr>\n",
       "  </thead>\n",
       "  <tbody>\n",
       "    <tr>\n",
       "      <td>0</td>\n",
       "      <td>4.919007</td>\n",
       "      <td>4.930799</td>\n",
       "      <td>0.314286</td>\n",
       "      <td>00:18</td>\n",
       "    </tr>\n",
       "    <tr>\n",
       "      <td>1</td>\n",
       "      <td>4.417678</td>\n",
       "      <td>4.517805</td>\n",
       "      <td>0.357143</td>\n",
       "      <td>00:17</td>\n",
       "    </tr>\n",
       "  </tbody>\n",
       "</table>"
      ],
      "text/plain": [
       "<IPython.core.display.HTML object>"
      ]
     },
     "metadata": {},
     "output_type": "display_data"
    }
   ],
   "source": [
    "learn_lm.fit_one_cycle(2, lr*10, moms=(0.8,0.7))"
   ]
  },
  {
   "cell_type": "code",
   "execution_count": 38,
   "metadata": {},
   "outputs": [],
   "source": [
    "learn_lm.save(f'lenta_titles')\n",
    "learn_lm.save_encoder(f'lenta_titles_enc')"
   ]
  },
  {
   "cell_type": "code",
   "execution_count": 39,
   "metadata": {},
   "outputs": [
    {
     "data": {
      "text/html": [
       "<table border=\"1\" class=\"dataframe\">\n",
       "  <thead>\n",
       "    <tr style=\"text-align: left;\">\n",
       "      <th>epoch</th>\n",
       "      <th>train_loss</th>\n",
       "      <th>valid_loss</th>\n",
       "      <th>accuracy</th>\n",
       "      <th>time</th>\n",
       "    </tr>\n",
       "  </thead>\n",
       "  <tbody>\n",
       "    <tr>\n",
       "      <td>0</td>\n",
       "      <td>3.829658</td>\n",
       "      <td>4.258080</td>\n",
       "      <td>0.357143</td>\n",
       "      <td>00:22</td>\n",
       "    </tr>\n",
       "    <tr>\n",
       "      <td>1</td>\n",
       "      <td>3.624947</td>\n",
       "      <td>4.001123</td>\n",
       "      <td>0.371429</td>\n",
       "      <td>00:22</td>\n",
       "    </tr>\n",
       "    <tr>\n",
       "      <td>2</td>\n",
       "      <td>3.451524</td>\n",
       "      <td>3.936731</td>\n",
       "      <td>0.400000</td>\n",
       "      <td>00:21</td>\n",
       "    </tr>\n",
       "    <tr>\n",
       "      <td>3</td>\n",
       "      <td>3.271042</td>\n",
       "      <td>3.752093</td>\n",
       "      <td>0.414286</td>\n",
       "      <td>00:21</td>\n",
       "    </tr>\n",
       "    <tr>\n",
       "      <td>4</td>\n",
       "      <td>3.100977</td>\n",
       "      <td>3.701032</td>\n",
       "      <td>0.385714</td>\n",
       "      <td>00:21</td>\n",
       "    </tr>\n",
       "    <tr>\n",
       "      <td>5</td>\n",
       "      <td>2.944757</td>\n",
       "      <td>3.643425</td>\n",
       "      <td>0.442857</td>\n",
       "      <td>00:21</td>\n",
       "    </tr>\n",
       "    <tr>\n",
       "      <td>6</td>\n",
       "      <td>2.823218</td>\n",
       "      <td>3.654185</td>\n",
       "      <td>0.428571</td>\n",
       "      <td>00:22</td>\n",
       "    </tr>\n",
       "    <tr>\n",
       "      <td>7</td>\n",
       "      <td>2.738399</td>\n",
       "      <td>3.655936</td>\n",
       "      <td>0.442857</td>\n",
       "      <td>00:22</td>\n",
       "    </tr>\n",
       "  </tbody>\n",
       "</table>"
      ],
      "text/plain": [
       "<IPython.core.display.HTML object>"
      ]
     },
     "metadata": {},
     "output_type": "display_data"
    }
   ],
   "source": [
    "learn_lm.unfreeze()\n",
    "learn_lm.fit_one_cycle(8, lr, moms=(0.8,0.7))"
   ]
  },
  {
   "cell_type": "code",
   "execution_count": 40,
   "metadata": {},
   "outputs": [],
   "source": [
    "learn_lm.save(f'lenta_titles')\n",
    "learn_lm.save_encoder(f'lenta_titles_enc')"
   ]
  },
  {
   "cell_type": "code",
   "execution_count": 35,
   "metadata": {},
   "outputs": [],
   "source": [
    "learn_lm = language_model_learner(lenta_titles_lm, AWD_LSTM, pretrained_fnames=lm_fns, drop_mult=1.0)"
   ]
  },
  {
   "cell_type": "code",
   "execution_count": 36,
   "metadata": {},
   "outputs": [
    {
     "data": {
      "text/plain": [
       "LanguageLearner(data=TextLMDataBunch;\n",
       "\n",
       "Train: LabelList (85280 items)\n",
       "x: LMTextList\n",
       "xxbos xxmaj украинский комик поборется за   президентский пост,xxbos xxmaj xxunk политиков обвинили в   попытке вернуть страну в   xxup xvii век,xxbos xxmaj климкин xxunk из - за советских фильмов,xxbos xxmaj уточнено число пропавших после обрушения дома в   xxmaj магнитогорске,xxbos xxmaj российская молодежка обыграла канадцев на   xxup чм по   хоккею\n",
       "y: LMLabelList\n",
       ",,,,\n",
       "Path: /home/kuptservol/.fastai/data/ruwiki;\n",
       "\n",
       "Valid: LabelList (9475 items)\n",
       "x: LMTextList\n",
       "xxbos xxup ssj-100   развернулся из - за технических проблем,xxbos xxmaj пьяный китаец проглотил xxunk и   чудом избежал взрыва желудка,xxbos xxmaj рабинович накормил xxunk заключенных московского xxup сизо,xxbos xxmaj белоруссия показала способ надавить на   xxmaj россию по   нефти,xxbos xxmaj оценена эффективность американского препарата против коронавируса\n",
       "y: LMLabelList\n",
       ",,,,\n",
       "Path: /home/kuptservol/.fastai/data/ruwiki;\n",
       "\n",
       "Test: None, model=SequentialRNN(\n",
       "  (0): AWD_LSTM(\n",
       "    (encoder): Embedding(24592, 400, padding_idx=1)\n",
       "    (encoder_dp): EmbeddingDropout(\n",
       "      (emb): Embedding(24592, 400, padding_idx=1)\n",
       "    )\n",
       "    (rnns): ModuleList(\n",
       "      (0): WeightDropout(\n",
       "        (module): LSTM(400, 1152, batch_first=True)\n",
       "      )\n",
       "      (1): WeightDropout(\n",
       "        (module): LSTM(1152, 1152, batch_first=True)\n",
       "      )\n",
       "      (2): WeightDropout(\n",
       "        (module): LSTM(1152, 400, batch_first=True)\n",
       "      )\n",
       "    )\n",
       "    (input_dp): RNNDropout()\n",
       "    (hidden_dps): ModuleList(\n",
       "      (0): RNNDropout()\n",
       "      (1): RNNDropout()\n",
       "      (2): RNNDropout()\n",
       "    )\n",
       "  )\n",
       "  (1): LinearDecoder(\n",
       "    (decoder): Linear(in_features=400, out_features=24592, bias=True)\n",
       "    (output_dp): RNNDropout()\n",
       "  )\n",
       "), opt_func=functools.partial(<class 'torch.optim.adam.Adam'>, betas=(0.9, 0.99)), loss_func=FlattenedLoss of CrossEntropyLoss(), metrics=[<function accuracy at 0x7f66c40942f0>], true_wd=True, bn_wd=True, wd=0.01, train_bn=True, path=PosixPath('/home/kuptservol/.fastai/data/ruwiki'), model_dir='models', callback_fns=[functools.partial(<class 'fastai.basic_train.Recorder'>, add_time=True, silent=False)], callbacks=[RNNTrainer\n",
       "learn: ...\n",
       "alpha: 2.0\n",
       "beta: 1.0], layer_groups=[Sequential(\n",
       "  (0): WeightDropout(\n",
       "    (module): LSTM(400, 1152, batch_first=True)\n",
       "  )\n",
       "  (1): RNNDropout()\n",
       "), Sequential(\n",
       "  (0): WeightDropout(\n",
       "    (module): LSTM(1152, 1152, batch_first=True)\n",
       "  )\n",
       "  (1): RNNDropout()\n",
       "), Sequential(\n",
       "  (0): WeightDropout(\n",
       "    (module): LSTM(1152, 400, batch_first=True)\n",
       "  )\n",
       "  (1): RNNDropout()\n",
       "), Sequential(\n",
       "  (0): Embedding(24592, 400, padding_idx=1)\n",
       "  (1): EmbeddingDropout(\n",
       "    (emb): Embedding(24592, 400, padding_idx=1)\n",
       "  )\n",
       "  (2): LinearDecoder(\n",
       "    (decoder): Linear(in_features=400, out_features=24592, bias=True)\n",
       "    (output_dp): RNNDropout()\n",
       "  )\n",
       ")], add_time=True, silent=False)"
      ]
     },
     "execution_count": 36,
     "metadata": {},
     "output_type": "execute_result"
    }
   ],
   "source": [
    "learn_lm.load(f'lenta_titles')"
   ]
  },
  {
   "cell_type": "code",
   "execution_count": 45,
   "metadata": {},
   "outputs": [],
   "source": [
    "def generate_samples(prefix='', temps=[0.2, 0.5, 0.75, 1.]):\n",
    "    for temp in temps:\n",
    "        print('####################')\n",
    "        print('Temperature: ' + str(temp))\n",
    "        print('####################')\n",
    "        for i in range(3):\n",
    "            text = learn_lm.predict(prefix, 25, temperature=temp)\n",
    "            print(text[:text.index('xxbos')])\n",
    "            print('\\n')"
   ]
  },
  {
   "cell_type": "code",
   "execution_count": 46,
   "metadata": {},
   "outputs": [
    {
     "name": "stdout",
     "output_type": "stream",
     "text": [
      "####################\n",
      "Temperature: 0.2\n",
      "####################\n",
      " Российский регион начал торговать популярным доступным бизнесом \n",
      "\n",
      "\n",
      " Российские ученые создали « Турецкий поток » \n",
      "\n",
      "\n",
      " Путин поручил создать новую мегатрассу в   Арктике \n",
      "\n",
      "\n",
      "####################\n",
      "Temperature: 0.5\n",
      "####################\n",
      " Россия усилит Японию \n",
      "\n",
      "\n",
      " Россия рассказала о   планах по   вступлению в   НАТО \n",
      "\n",
      "\n",
      " Путин поручил создать новую мегатрассу на   Дальнем Востоке \n",
      "\n",
      "\n",
      "####################\n",
      "Temperature: 0.75\n",
      "####################\n",
      " Умер актер Геннадий Харитонов \n",
      "\n",
      "\n",
      " Собчак раскрыла подробности нового обмена заключенными с   Грузией \n",
      "\n",
      "\n",
      " Сотрудница российского банка похитила миллионы и   раскрыла детали нападения \n",
      "\n",
      "\n",
      "####################\n",
      "Temperature: 1.0\n",
      "####################\n",
      " Порошенко рассказали о « самом страшном » моменте \n",
      "\n",
      "\n",
      " Трамп нашел способ проводить ад из - за Крыму \n",
      "\n",
      "\n",
      " Назван лучший российский город для путешествий на   время пандемии коронавируса \n",
      "\n",
      "\n"
     ]
    }
   ],
   "source": [
    "generate_samples()"
   ]
  },
  {
   "cell_type": "code",
   "execution_count": 47,
   "metadata": {},
   "outputs": [
    {
     "name": "stdout",
     "output_type": "stream",
     "text": [
      "####################\n",
      "Temperature: 0.2\n",
      "####################\n",
      " Названы самые популярные у   россиян товары в   России \n",
      "\n",
      "\n",
      " Россия и   Белоруссия договорились о   сотрудничестве \n",
      "\n",
      "\n",
      " Российский регион закупит оборудование для цифровой экономики \n",
      "\n",
      "\n",
      "####################\n",
      "Temperature: 0.5\n",
      "####################\n",
      " Раскрыты подробности лечения Заворотнюк \n",
      "\n",
      "\n",
      " Стратегический тренер сборной России ответил на   вопрос о   допинге \n",
      "\n",
      "\n",
      " На Украине предложили ввести новый налог \n",
      "\n",
      "\n",
      "####################\n",
      "Temperature: 0.75\n",
      "####################\n",
      " Лавров рассказал о   борьбе с   коронавирусом \n",
      "\n",
      "\n",
      " Мишустин заявил о   необходимости Украины и   России объединить Украину \n",
      "\n",
      "\n",
      " Неудачная гибель ребенка на   пляже попала на   видео \n",
      "\n",
      "\n",
      "####################\n",
      "Temperature: 1.0\n",
      "####################\n",
      " Турция призвала США спрятаться от   санкции США \n",
      "\n",
      "\n",
      " Объяснен дефицит сахара \n",
      "\n",
      "\n",
      " Популярный порносайт выйдет на   музыкальный уровень « Давай поженимся ! » \n",
      "\n",
      "\n"
     ]
    }
   ],
   "source": [
    "generate_samples()"
   ]
  },
  {
   "cell_type": "code",
   "execution_count": 48,
   "metadata": {},
   "outputs": [
    {
     "name": "stdout",
     "output_type": "stream",
     "text": [
      "####################\n",
      "Temperature: 0.2\n",
      "####################\n",
      "мошенники нашли способ заработать на   россиянах \n",
      "\n",
      "\n",
      "мошенники нашли способ нажиться на   россиянах \n",
      "\n",
      "\n",
      "мошенники стали чаще подделывать \n",
      "\n",
      "\n",
      "####################\n",
      "Temperature: 0.5\n",
      "####################\n",
      "мошенники нашли способ нажиться на   россиянах \n",
      "\n",
      "\n",
      "мошенники появилось видео с   места расстрела полицейских в   Пакистане \n",
      "\n",
      "\n",
      "мошенники для Android оказались под угрозой блокировки \n",
      "\n",
      "\n",
      "####################\n",
      "Temperature: 0.75\n",
      "####################\n",
      "мошенники нашли способ потратить деньги на   путешествия \n",
      "\n",
      "\n",
      "мошенники нашли способ завести коронавирус \n",
      "\n",
      "\n",
      "мошенники решили взломать Telegram \n",
      "\n",
      "\n",
      "####################\n",
      "Temperature: 1.0\n",
      "####################\n",
      "мошенники вспомнили о « зассавшем » в   Telegram \n",
      "\n",
      "\n",
      "мошенники су-34 больше 100   рублей получат компенсации за   антисептик журналистов \n",
      "\n",
      "\n",
      "мошенники спросили о   сбитом Т-72   в бессилии Таганской ОПГ \n",
      "\n",
      "\n"
     ]
    }
   ],
   "source": [
    "generate_samples(prefix='мошенники')"
   ]
  },
  {
   "cell_type": "code",
   "execution_count": 51,
   "metadata": {},
   "outputs": [
    {
     "name": "stdout",
     "output_type": "stream",
     "text": [
      "####################\n",
      "Temperature: 0.2\n",
      "####################\n",
      "британские ученые изучат судьбу Луны \n",
      "\n",
      "\n",
      "британские ученые изучат судьбу коронавируса \n",
      "\n",
      "\n",
      "британские ученые создали прибор для лечения коронавируса \n",
      "\n",
      "\n",
      "####################\n",
      "Temperature: 0.5\n",
      "####################\n",
      "британские ученые разработали новый способ борьбы с   болезнью \n",
      "\n",
      "\n",
      "британские ученые получат гранты на   развитие инфраструктуры \n",
      "\n",
      "\n",
      "британские ученые нашли в   России способ побороть Украину \n",
      "\n",
      "\n",
      "####################\n",
      "Temperature: 0.75\n",
      "####################\n",
      "британские ученые создали « Купол » \n",
      "\n",
      "\n",
      "британские ученые создали систему для лечения рака \n",
      "\n",
      "\n",
      "британские ученые создали « Око » \n",
      "\n",
      "\n",
      "####################\n",
      "Temperature: 1.0\n",
      "####################\n",
      "британские ученые объяснили успехом Нового года \n",
      "\n",
      "\n",
      "британские ученые ворвались за   курение на   хорошей площади \n",
      "\n",
      "\n",
      "британские ученые придумали новый способ борьбы с   коронавирусом \n",
      "\n",
      "\n"
     ]
    }
   ],
   "source": [
    "generate_samples(prefix='британские ученые')"
   ]
  },
  {
   "cell_type": "markdown",
   "metadata": {},
   "source": [
    "## Textgenrnn"
   ]
  },
  {
   "cell_type": "code",
   "execution_count": 2,
   "metadata": {},
   "outputs": [
    {
     "name": "stderr",
     "output_type": "stream",
     "text": [
      "Using TensorFlow backend.\n"
     ]
    }
   ],
   "source": [
    "from textgenrnn import textgenrnn"
   ]
  },
  {
   "cell_type": "code",
   "execution_count": 3,
   "metadata": {},
   "outputs": [],
   "source": [
    "MODEL_PATH = f'/home/kuptservol/.models/textgenrnn/'"
   ]
  },
  {
   "cell_type": "code",
   "execution_count": 4,
   "metadata": {},
   "outputs": [],
   "source": [
    "def create_textgen(model_name):\n",
    "    return textgenrnn(weights_path=MODEL_PATH + '{}_weights.hdf5'.format(model_name),\n",
    "                     vocab_path=MODEL_PATH + '{}_vocab.json'.format(model_name),\n",
    "                     config_path=MODEL_PATH + '{}_config.json'.format(model_name),\n",
    "                     name=model_name)"
   ]
  },
  {
   "cell_type": "markdown",
   "metadata": {},
   "source": [
    "train \n",
    "https://colab.research.google.com/drive/1d4L2ejQI4BGs3Pj7briqSgn5NSGHQgrL"
   ]
  },
  {
   "cell_type": "code",
   "execution_count": 5,
   "metadata": {},
   "outputs": [],
   "source": [
    "textgen = create_textgen('lenta-title-char_lvl')"
   ]
  },
  {
   "cell_type": "code",
   "execution_count": 52,
   "metadata": {},
   "outputs": [
    {
     "name": "stdout",
     "output_type": "stream",
     "text": [
      "####################\n",
      "Temperature: 0.2\n",
      "####################\n",
      "Россияне стали чаще поддержать продукты\n",
      "\n",
      "В России предложили провести программу секса и попал на видео\n",
      "\n",
      "В России подорожали на подиуме и попал на видео\n",
      "\n",
      "####################\n",
      "Temperature: 0.5\n",
      "####################\n",
      "Российский боец UFC продолжит производить приезд Кириллова\n",
      "\n",
      "Обвиненные по делу о карантине на борту самолета в Иране\n",
      "\n",
      "Стало известно о подготовке выхода из семьи по ипотеке\n",
      "\n",
      "####################\n",
      "Temperature: 1.0\n",
      "####################\n",
      "В Анапе Бессонда завоевали из-за освобождения\n",
      "\n",
      "На Украине предложили бороться с кафе и четырьмя погибли ее нефти\n",
      "\n",
      "Появились первые результаты падорожных отгровов\n",
      "\n"
     ]
    }
   ],
   "source": [
    "textgen.generate_samples()"
   ]
  },
  {
   "cell_type": "code",
   "execution_count": 7,
   "metadata": {},
   "outputs": [
    {
     "name": "stdout",
     "output_type": "stream",
     "text": [
      "####################\n",
      "Temperature: 0.2\n",
      "####################\n",
      "В России подорожали с помощью к российским послам\n",
      "\n",
      "Россияне назвали самые популярные у россиян с коронавирусом\n",
      "\n",
      "В России отреагировали на предложение Зеленского о поддержке Кокорина и Мамаева в самолете\n",
      "\n",
      "####################\n",
      "Temperature: 0.5\n",
      "####################\n",
      "В России заявили о нехватке происхождения к убийству жизни в России\n",
      "\n",
      "В России создадут «Спартак»\n",
      "\n",
      "Объяснена роль Кадырова помогать в больницы для ребенка\n",
      "\n",
      "####################\n",
      "Temperature: 1.0\n",
      "####################\n",
      "Затравленному оружием давать без наркоторговца\n",
      "\n",
      "Мишустин зафиксировал главный штраф\n",
      "\n",
      "Пригодные предсмертные коронавирусом туриста затрясло в тюрьму полицейского\n",
      "\n"
     ]
    }
   ],
   "source": [
    "textgen.generate_samples()\n"
   ]
  },
  {
   "cell_type": "code",
   "execution_count": 53,
   "metadata": {},
   "outputs": [
    {
     "name": "stdout",
     "output_type": "stream",
     "text": [
      "####################\n",
      "Temperature: 0.2\n",
      "####################\n",
      "британские ученые признались в нежелании покупать свадьбу в сети\n",
      "\n",
      "британские ученые поделились секретом поддержки детей\n",
      "\n",
      "британские ученые признались в недостатке страны\n",
      "\n",
      "####################\n",
      "Temperature: 0.5\n",
      "####################\n",
      "британские ученые изучат продажу по ремонту после катастрофы\n",
      "\n",
      "британские ученые признались в любви к списке к ремонту за попытку взорвать в сети\n",
      "\n",
      "британские ученые высказались о соблюдении страны\n",
      "\n",
      "####################\n",
      "Temperature: 1.0\n",
      "####################\n",
      "британские ученые захотели заступать бедро\n",
      "\n",
      "британские ученые попали на видео\n",
      "\n",
      "британские ученые разросали аннексивным прокляем\n",
      "\n"
     ]
    }
   ],
   "source": [
    "textgen.generate_samples(prefix='британские ученые')"
   ]
  },
  {
   "cell_type": "code",
   "execution_count": 54,
   "metadata": {},
   "outputs": [
    {
     "name": "stdout",
     "output_type": "stream",
     "text": [
      "####################\n",
      "Temperature: 0.2\n",
      "####################\n",
      "мошенники нашли способ нажиться на   россиянах \n",
      "\n",
      "\n",
      "мошенники нашли способ заработать на   россиянах \n",
      "\n",
      "\n",
      "мошенники нашли способ заработать на   россиянах \n",
      "\n",
      "\n",
      "####################\n",
      "Temperature: 0.5\n",
      "####################\n",
      "мошенники по   делу о   крушении Boeing 737   MAX сняли на   видео \n",
      "\n",
      "\n",
      "мошенники признали виновным в   сексуальном насилии \n",
      "\n",
      "\n",
      "мошенники стали чаще подделывать на   Украину \n",
      "\n",
      "\n",
      "####################\n",
      "Temperature: 0.75\n",
      "####################\n",
      "мошенники нашли у   Калви « зеленый авианосец » \n",
      "\n",
      "\n",
      "мошенники нашли способ решить проблему с   коронавирусом \n",
      "\n",
      "\n",
      "мошенники по   делу о   прорыве дамбы под Красноярском снова захватили \n",
      "\n",
      "\n",
      "####################\n",
      "Temperature: 1.0\n",
      "####################\n",
      "мошенники спецпропусков с   перелет при крещении в   США \n",
      "\n",
      "\n",
      "мошенники появились новые подробности жизни Коби Брайанта \n",
      "\n",
      "\n",
      "мошенники московских оленей отказались от   прививок \n",
      "\n",
      "\n"
     ]
    }
   ],
   "source": [
    "generate_samples(prefix='мошенники')"
   ]
  },
  {
   "cell_type": "code",
   "execution_count": 56,
   "metadata": {},
   "outputs": [
    {
     "ename": "OSError",
     "evalue": "Unable to open file (truncated file: eof = 20156145, sblock->base_addr = 0, stored_eof = 42912064)",
     "output_type": "error",
     "traceback": [
      "\u001b[0;31m---------------------------------------------------------------------------\u001b[0m",
      "\u001b[0;31mOSError\u001b[0m                                   Traceback (most recent call last)",
      "\u001b[0;32m<ipython-input-56-e17d38b59eda>\u001b[0m in \u001b[0;36m<module>\u001b[0;34m\u001b[0m\n\u001b[0;32m----> 1\u001b[0;31m \u001b[0mtextgen\u001b[0m \u001b[0;34m=\u001b[0m \u001b[0mcreate_textgen\u001b[0m\u001b[0;34m(\u001b[0m\u001b[0;34m'lenta-title-word_lvl'\u001b[0m\u001b[0;34m)\u001b[0m\u001b[0;34m\u001b[0m\u001b[0;34m\u001b[0m\u001b[0m\n\u001b[0m",
      "\u001b[0;32m<ipython-input-4-431e0cbfd535>\u001b[0m in \u001b[0;36mcreate_textgen\u001b[0;34m(model_name)\u001b[0m\n\u001b[1;32m      3\u001b[0m                      \u001b[0mvocab_path\u001b[0m\u001b[0;34m=\u001b[0m\u001b[0mMODEL_PATH\u001b[0m \u001b[0;34m+\u001b[0m \u001b[0;34m'{}_vocab.json'\u001b[0m\u001b[0;34m.\u001b[0m\u001b[0mformat\u001b[0m\u001b[0;34m(\u001b[0m\u001b[0mmodel_name\u001b[0m\u001b[0;34m)\u001b[0m\u001b[0;34m,\u001b[0m\u001b[0;34m\u001b[0m\u001b[0;34m\u001b[0m\u001b[0m\n\u001b[1;32m      4\u001b[0m                      \u001b[0mconfig_path\u001b[0m\u001b[0;34m=\u001b[0m\u001b[0mMODEL_PATH\u001b[0m \u001b[0;34m+\u001b[0m \u001b[0;34m'{}_config.json'\u001b[0m\u001b[0;34m.\u001b[0m\u001b[0mformat\u001b[0m\u001b[0;34m(\u001b[0m\u001b[0mmodel_name\u001b[0m\u001b[0;34m)\u001b[0m\u001b[0;34m,\u001b[0m\u001b[0;34m\u001b[0m\u001b[0;34m\u001b[0m\u001b[0m\n\u001b[0;32m----> 5\u001b[0;31m                      name=model_name)\n\u001b[0m",
      "\u001b[0;32m~/soft/anaconda3/lib/python3.7/site-packages/textgenrnn/textgenrnn.py\u001b[0m in \u001b[0;36m__init__\u001b[0;34m(self, weights_path, vocab_path, config_path, name, allow_growth)\u001b[0m\n\u001b[1;32m     74\u001b[0m         self.model = textgenrnn_model(self.num_classes,\n\u001b[1;32m     75\u001b[0m                                       \u001b[0mcfg\u001b[0m\u001b[0;34m=\u001b[0m\u001b[0mself\u001b[0m\u001b[0;34m.\u001b[0m\u001b[0mconfig\u001b[0m\u001b[0;34m,\u001b[0m\u001b[0;34m\u001b[0m\u001b[0;34m\u001b[0m\u001b[0m\n\u001b[0;32m---> 76\u001b[0;31m                                       weights_path=weights_path)\n\u001b[0m\u001b[1;32m     77\u001b[0m         \u001b[0mself\u001b[0m\u001b[0;34m.\u001b[0m\u001b[0mindices_char\u001b[0m \u001b[0;34m=\u001b[0m \u001b[0mdict\u001b[0m\u001b[0;34m(\u001b[0m\u001b[0;34m(\u001b[0m\u001b[0mself\u001b[0m\u001b[0;34m.\u001b[0m\u001b[0mvocab\u001b[0m\u001b[0;34m[\u001b[0m\u001b[0mc\u001b[0m\u001b[0;34m]\u001b[0m\u001b[0;34m,\u001b[0m \u001b[0mc\u001b[0m\u001b[0;34m)\u001b[0m \u001b[0;32mfor\u001b[0m \u001b[0mc\u001b[0m \u001b[0;32min\u001b[0m \u001b[0mself\u001b[0m\u001b[0;34m.\u001b[0m\u001b[0mvocab\u001b[0m\u001b[0;34m)\u001b[0m\u001b[0;34m\u001b[0m\u001b[0;34m\u001b[0m\u001b[0m\n\u001b[1;32m     78\u001b[0m \u001b[0;34m\u001b[0m\u001b[0m\n",
      "\u001b[0;32m~/soft/anaconda3/lib/python3.7/site-packages/textgenrnn/model.py\u001b[0m in \u001b[0;36mtextgenrnn_model\u001b[0;34m(num_classes, cfg, context_size, weights_path, dropout, optimizer)\u001b[0m\n\u001b[1;32m     37\u001b[0m         \u001b[0mmodel\u001b[0m \u001b[0;34m=\u001b[0m \u001b[0mModel\u001b[0m\u001b[0;34m(\u001b[0m\u001b[0minputs\u001b[0m\u001b[0;34m=\u001b[0m\u001b[0;34m[\u001b[0m\u001b[0minput\u001b[0m\u001b[0;34m]\u001b[0m\u001b[0;34m,\u001b[0m \u001b[0moutputs\u001b[0m\u001b[0;34m=\u001b[0m\u001b[0;34m[\u001b[0m\u001b[0moutput\u001b[0m\u001b[0;34m]\u001b[0m\u001b[0;34m)\u001b[0m\u001b[0;34m\u001b[0m\u001b[0;34m\u001b[0m\u001b[0m\n\u001b[1;32m     38\u001b[0m         \u001b[0;32mif\u001b[0m \u001b[0mweights_path\u001b[0m \u001b[0;32mis\u001b[0m \u001b[0;32mnot\u001b[0m \u001b[0;32mNone\u001b[0m\u001b[0;34m:\u001b[0m\u001b[0;34m\u001b[0m\u001b[0;34m\u001b[0m\u001b[0m\n\u001b[0;32m---> 39\u001b[0;31m             \u001b[0mmodel\u001b[0m\u001b[0;34m.\u001b[0m\u001b[0mload_weights\u001b[0m\u001b[0;34m(\u001b[0m\u001b[0mweights_path\u001b[0m\u001b[0;34m,\u001b[0m \u001b[0mby_name\u001b[0m\u001b[0;34m=\u001b[0m\u001b[0;32mTrue\u001b[0m\u001b[0;34m)\u001b[0m\u001b[0;34m\u001b[0m\u001b[0;34m\u001b[0m\u001b[0m\n\u001b[0m\u001b[1;32m     40\u001b[0m         \u001b[0mmodel\u001b[0m\u001b[0;34m.\u001b[0m\u001b[0mcompile\u001b[0m\u001b[0;34m(\u001b[0m\u001b[0mloss\u001b[0m\u001b[0;34m=\u001b[0m\u001b[0;34m'categorical_crossentropy'\u001b[0m\u001b[0;34m,\u001b[0m \u001b[0moptimizer\u001b[0m\u001b[0;34m=\u001b[0m\u001b[0moptimizer\u001b[0m\u001b[0;34m)\u001b[0m\u001b[0;34m\u001b[0m\u001b[0;34m\u001b[0m\u001b[0m\n\u001b[1;32m     41\u001b[0m \u001b[0;34m\u001b[0m\u001b[0m\n",
      "\u001b[0;32m~/soft/anaconda3/lib/python3.7/site-packages/tensorflow_core/python/keras/engine/training.py\u001b[0m in \u001b[0;36mload_weights\u001b[0;34m(self, filepath, by_name, skip_mismatch)\u001b[0m\n\u001b[1;32m    232\u001b[0m         raise ValueError('Load weights is not yet supported with TPUStrategy '\n\u001b[1;32m    233\u001b[0m                          'with steps_per_run greater than 1.')\n\u001b[0;32m--> 234\u001b[0;31m     \u001b[0;32mreturn\u001b[0m \u001b[0msuper\u001b[0m\u001b[0;34m(\u001b[0m\u001b[0mModel\u001b[0m\u001b[0;34m,\u001b[0m \u001b[0mself\u001b[0m\u001b[0;34m)\u001b[0m\u001b[0;34m.\u001b[0m\u001b[0mload_weights\u001b[0m\u001b[0;34m(\u001b[0m\u001b[0mfilepath\u001b[0m\u001b[0;34m,\u001b[0m \u001b[0mby_name\u001b[0m\u001b[0;34m,\u001b[0m \u001b[0mskip_mismatch\u001b[0m\u001b[0;34m)\u001b[0m\u001b[0;34m\u001b[0m\u001b[0;34m\u001b[0m\u001b[0m\n\u001b[0m\u001b[1;32m    235\u001b[0m \u001b[0;34m\u001b[0m\u001b[0m\n\u001b[1;32m    236\u001b[0m   \u001b[0;34m@\u001b[0m\u001b[0mtrackable\u001b[0m\u001b[0;34m.\u001b[0m\u001b[0mno_automatic_dependency_tracking\u001b[0m\u001b[0;34m\u001b[0m\u001b[0;34m\u001b[0m\u001b[0m\n",
      "\u001b[0;32m~/soft/anaconda3/lib/python3.7/site-packages/tensorflow_core/python/keras/engine/network.py\u001b[0m in \u001b[0;36mload_weights\u001b[0;34m(self, filepath, by_name, skip_mismatch)\u001b[0m\n\u001b[1;32m   1213\u001b[0m           'first, then load the weights.')\n\u001b[1;32m   1214\u001b[0m     \u001b[0mself\u001b[0m\u001b[0;34m.\u001b[0m\u001b[0m_assert_weights_created\u001b[0m\u001b[0;34m(\u001b[0m\u001b[0;34m)\u001b[0m\u001b[0;34m\u001b[0m\u001b[0;34m\u001b[0m\u001b[0m\n\u001b[0;32m-> 1215\u001b[0;31m     \u001b[0;32mwith\u001b[0m \u001b[0mh5py\u001b[0m\u001b[0;34m.\u001b[0m\u001b[0mFile\u001b[0m\u001b[0;34m(\u001b[0m\u001b[0mfilepath\u001b[0m\u001b[0;34m,\u001b[0m \u001b[0;34m'r'\u001b[0m\u001b[0;34m)\u001b[0m \u001b[0;32mas\u001b[0m \u001b[0mf\u001b[0m\u001b[0;34m:\u001b[0m\u001b[0;34m\u001b[0m\u001b[0;34m\u001b[0m\u001b[0m\n\u001b[0m\u001b[1;32m   1216\u001b[0m       \u001b[0;32mif\u001b[0m \u001b[0;34m'layer_names'\u001b[0m \u001b[0;32mnot\u001b[0m \u001b[0;32min\u001b[0m \u001b[0mf\u001b[0m\u001b[0;34m.\u001b[0m\u001b[0mattrs\u001b[0m \u001b[0;32mand\u001b[0m \u001b[0;34m'model_weights'\u001b[0m \u001b[0;32min\u001b[0m \u001b[0mf\u001b[0m\u001b[0;34m:\u001b[0m\u001b[0;34m\u001b[0m\u001b[0;34m\u001b[0m\u001b[0m\n\u001b[1;32m   1217\u001b[0m         \u001b[0mf\u001b[0m \u001b[0;34m=\u001b[0m \u001b[0mf\u001b[0m\u001b[0;34m[\u001b[0m\u001b[0;34m'model_weights'\u001b[0m\u001b[0;34m]\u001b[0m\u001b[0;34m\u001b[0m\u001b[0;34m\u001b[0m\u001b[0m\n",
      "\u001b[0;32m~/soft/anaconda3/lib/python3.7/site-packages/h5py/_hl/files.py\u001b[0m in \u001b[0;36m__init__\u001b[0;34m(self, name, mode, driver, libver, userblock_size, swmr, rdcc_nslots, rdcc_nbytes, rdcc_w0, track_order, **kwds)\u001b[0m\n\u001b[1;32m    406\u001b[0m                 fid = make_fid(name, mode, userblock_size,\n\u001b[1;32m    407\u001b[0m                                \u001b[0mfapl\u001b[0m\u001b[0;34m,\u001b[0m \u001b[0mfcpl\u001b[0m\u001b[0;34m=\u001b[0m\u001b[0mmake_fcpl\u001b[0m\u001b[0;34m(\u001b[0m\u001b[0mtrack_order\u001b[0m\u001b[0;34m=\u001b[0m\u001b[0mtrack_order\u001b[0m\u001b[0;34m)\u001b[0m\u001b[0;34m,\u001b[0m\u001b[0;34m\u001b[0m\u001b[0;34m\u001b[0m\u001b[0m\n\u001b[0;32m--> 408\u001b[0;31m                                swmr=swmr)\n\u001b[0m\u001b[1;32m    409\u001b[0m \u001b[0;34m\u001b[0m\u001b[0m\n\u001b[1;32m    410\u001b[0m             \u001b[0;32mif\u001b[0m \u001b[0misinstance\u001b[0m\u001b[0;34m(\u001b[0m\u001b[0mlibver\u001b[0m\u001b[0;34m,\u001b[0m \u001b[0mtuple\u001b[0m\u001b[0;34m)\u001b[0m\u001b[0;34m:\u001b[0m\u001b[0;34m\u001b[0m\u001b[0;34m\u001b[0m\u001b[0m\n",
      "\u001b[0;32m~/soft/anaconda3/lib/python3.7/site-packages/h5py/_hl/files.py\u001b[0m in \u001b[0;36mmake_fid\u001b[0;34m(name, mode, userblock_size, fapl, fcpl, swmr)\u001b[0m\n\u001b[1;32m    171\u001b[0m         \u001b[0;32mif\u001b[0m \u001b[0mswmr\u001b[0m \u001b[0;32mand\u001b[0m \u001b[0mswmr_support\u001b[0m\u001b[0;34m:\u001b[0m\u001b[0;34m\u001b[0m\u001b[0;34m\u001b[0m\u001b[0m\n\u001b[1;32m    172\u001b[0m             \u001b[0mflags\u001b[0m \u001b[0;34m|=\u001b[0m \u001b[0mh5f\u001b[0m\u001b[0;34m.\u001b[0m\u001b[0mACC_SWMR_READ\u001b[0m\u001b[0;34m\u001b[0m\u001b[0;34m\u001b[0m\u001b[0m\n\u001b[0;32m--> 173\u001b[0;31m         \u001b[0mfid\u001b[0m \u001b[0;34m=\u001b[0m \u001b[0mh5f\u001b[0m\u001b[0;34m.\u001b[0m\u001b[0mopen\u001b[0m\u001b[0;34m(\u001b[0m\u001b[0mname\u001b[0m\u001b[0;34m,\u001b[0m \u001b[0mflags\u001b[0m\u001b[0;34m,\u001b[0m \u001b[0mfapl\u001b[0m\u001b[0;34m=\u001b[0m\u001b[0mfapl\u001b[0m\u001b[0;34m)\u001b[0m\u001b[0;34m\u001b[0m\u001b[0;34m\u001b[0m\u001b[0m\n\u001b[0m\u001b[1;32m    174\u001b[0m     \u001b[0;32melif\u001b[0m \u001b[0mmode\u001b[0m \u001b[0;34m==\u001b[0m \u001b[0;34m'r+'\u001b[0m\u001b[0;34m:\u001b[0m\u001b[0;34m\u001b[0m\u001b[0;34m\u001b[0m\u001b[0m\n\u001b[1;32m    175\u001b[0m         \u001b[0mfid\u001b[0m \u001b[0;34m=\u001b[0m \u001b[0mh5f\u001b[0m\u001b[0;34m.\u001b[0m\u001b[0mopen\u001b[0m\u001b[0;34m(\u001b[0m\u001b[0mname\u001b[0m\u001b[0;34m,\u001b[0m \u001b[0mh5f\u001b[0m\u001b[0;34m.\u001b[0m\u001b[0mACC_RDWR\u001b[0m\u001b[0;34m,\u001b[0m \u001b[0mfapl\u001b[0m\u001b[0;34m=\u001b[0m\u001b[0mfapl\u001b[0m\u001b[0;34m)\u001b[0m\u001b[0;34m\u001b[0m\u001b[0;34m\u001b[0m\u001b[0m\n",
      "\u001b[0;32mh5py/_objects.pyx\u001b[0m in \u001b[0;36mh5py._objects.with_phil.wrapper\u001b[0;34m()\u001b[0m\n",
      "\u001b[0;32mh5py/_objects.pyx\u001b[0m in \u001b[0;36mh5py._objects.with_phil.wrapper\u001b[0;34m()\u001b[0m\n",
      "\u001b[0;32mh5py/h5f.pyx\u001b[0m in \u001b[0;36mh5py.h5f.open\u001b[0;34m()\u001b[0m\n",
      "\u001b[0;31mOSError\u001b[0m: Unable to open file (truncated file: eof = 20156145, sblock->base_addr = 0, stored_eof = 42912064)"
     ]
    }
   ],
   "source": [
    "textgen = create_textgen('lenta-title-word_lvl')"
   ]
  },
  {
   "cell_type": "markdown",
   "metadata": {},
   "source": [
    "## GPT-2"
   ]
  },
  {
   "cell_type": "code",
   "execution_count": null,
   "metadata": {},
   "outputs": [],
   "source": []
  }
 ],
 "metadata": {
  "kernelspec": {
   "display_name": "Python 3",
   "language": "python",
   "name": "python3"
  },
  "language_info": {
   "codemirror_mode": {
    "name": "ipython",
    "version": 3
   },
   "file_extension": ".py",
   "mimetype": "text/x-python",
   "name": "python",
   "nbconvert_exporter": "python",
   "pygments_lexer": "ipython3",
   "version": "3.7.3"
  }
 },
 "nbformat": 4,
 "nbformat_minor": 2
}
